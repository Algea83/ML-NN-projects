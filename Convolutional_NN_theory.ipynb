{
  "nbformat": 4,
  "nbformat_minor": 0,
  "metadata": {
    "colab": {
      "provenance": [],
      "collapsed_sections": [
        "yk5Z3nwvKxiX",
        "ijH6T4a43Vwi",
        "w9s0gNOZ3YEz",
        "anrpc39C3bo6",
        "fOHOn_h_3ehp"
      ]
    },
    "kernelspec": {
      "name": "python3",
      "display_name": "Python 3"
    },
    "language_info": {
      "name": "python"
    },
    "gpuClass": "standard",
    "accelerator": "GPU"
  },
  "cells": [
    {
      "cell_type": "markdown",
      "source": [
        "#Задание\n",
        "\n",
        "Постройте модель, используя архитектуру со свёрточными слоями, для классификации Fashion MNIST. Итоговое качество (accuracy) должно быть не ниже 89,5."
      ],
      "metadata": {
        "id": "yk5Z3nwvKxiX"
      }
    },
    {
      "cell_type": "code",
      "execution_count": null,
      "metadata": {
        "id": "khSyOM8yVwfw"
      },
      "outputs": [],
      "source": [
        "# Необходимый импорт\n",
        "import random\n",
        "import numpy as np\n",
        "import torch\n",
        "import torch.nn as nn\n",
        "import torchvision.datasets as datasets\n",
        "from torch.utils.data import DataLoader\n",
        "import torchvision.transforms as transforms\n",
        "import torch.optim as optim\n",
        "\n",
        "# Фиксирую воспроизводимость результатов, чтобы иметь возможность проверить влияние изменения каждого параметра\n",
        "seed = 42\n",
        "torch.manual_seed(seed)\n",
        "random.seed(seed)\n",
        "np.random.seed(seed)\n",
        "\n",
        "# Устанавливаю возможность использовать графический ускоритель, если он доступен\n",
        "device = torch.device('cuda' if torch.cuda.is_available() else 'cpu')\n",
        "# Если он доступен и модель обучается на нём, то нижеследующий код позволит всегда получать одинаковые результаты,\n",
        "# при запуске одинакового кода на одинаковых данных в одной и той же среде (не гарантируется, когда работаю в колабе). \n",
        "# В общем, максимально обеспечивает повторяемость результатов.\n",
        "if device == 'cuda':\n",
        "    torch.backends.cudnn.deterministic = True\n",
        "    # Ставлю этот флаг на False, потому что предыдущий - True.\n",
        "    # Когда benchmark = True, PyTorch будет выбирать максимально оптимизированный алгоритм для обучения на GPU\n",
        "    # Пока для этого нет необходимости - воспроизводимость результатов важнее.\n",
        "    torch.backends.cudnn.benchmark = False\n",
        "\n",
        "import matplotlib.pyplot as plt"
      ]
    },
    {
      "cell_type": "markdown",
      "source": [
        "## Загрузка данных"
      ],
      "metadata": {
        "id": "ijH6T4a43Vwi"
      }
    },
    {
      "cell_type": "code",
      "source": [
        "# Создаю пайплайн для трансформаций датасета сначала в тензоры, а потом нормализация тензоров вокруг среднего 0.5 со стандратным отклонением 0.5\n",
        "transform = transforms.Compose([transforms.ToTensor(),\n",
        "                                transforms.Normalize((0.5,), (0.5,))])\n",
        "\n",
        "# Загружаю данные из torchvision, сначала обучающий датасет, затем - тестовый\n",
        "dataset_train = datasets.FashionMNIST(root='./data', train=True, download=True, transform=transform)\n",
        "dataset_test = datasets.FashionMNIST(root='./data', train=False, download=True, transform=transform)\n",
        "\n",
        "# Устанавливаю размер мини-батча\n",
        "batch_size = 64\n",
        "# Создаю два загрузчика, в обучающем перемешиваю данные, в тестовом - нет\n",
        "train_loader = DataLoader(dataset_train, batch_size=batch_size, shuffle=True)\n",
        "test_loader = DataLoader(dataset_test, batch_size=batch_size, shuffle=False)"
      ],
      "metadata": {
        "id": "cCTJCyaTV53X"
      },
      "execution_count": null,
      "outputs": []
    },
    {
      "cell_type": "markdown",
      "source": [
        "## Архитектура"
      ],
      "metadata": {
        "id": "w9s0gNOZ3YEz"
      }
    },
    {
      "cell_type": "code",
      "source": [
        "# Сверточная сеть для классификации Fashion MNIST\n",
        "class FashionConvClass(nn.Module):\n",
        "    def __init__(self):\n",
        "        super(FashionConvClass, self).__init__()\n",
        "        # Первый свёрточный слой на 32 фильтра, каждый фильтр размером 3*3. \n",
        "        # Каждый фильтр будет улавливать какие-то свои особенности на оригинальном изображении.\n",
        "        # Веса у каждого фильтра будут обновляться в результате градиентного спуска.\n",
        "        # Так паддинг = 1, то результирующая карта фич (32 штуки) будет такого же размера, что и оригинальное изображение\n",
        "        self.conv1 = nn.Conv2d(in_channels=1, out_channels=32, kernel_size=3, padding=1)\n",
        "        # Перед отправкой в активацию, каждую из карт фич нормализую. После нормализации будет активация ReLU\n",
        "        self.batch_norm1 = nn.BatchNorm2d(num_features=32)\n",
        "        # Применяю к каждой нормализованной и активированной карте фич пулинг - этот конкретный выбирает максимальное\n",
        "        # значение в матрице 2*2, когда проходит по карте фич, и составляет новую карту фич, меньшего размера\n",
        "        # с более выделенными признаками за счет максимального значения.\n",
        "        self.pool1 = nn.MaxPool2d(kernel_size=2)\n",
        "        # Дальше 32 карты размером 14*14 (после пулинга) поступают в следующий свёрточный слой,\n",
        "        # где из них выделяются более абстрактные признаки. В итоге, так как второй свёрточный слой имеет 64 фильтра,\n",
        "        # получаются еще 64 карты фич, но на этот раз размером 14*14\n",
        "        self.conv2 = nn.Conv2d(in_channels=32, out_channels=64, kernel_size=3, padding=1)\n",
        "        # Нормализую карты фич, отправляю в ReLU\n",
        "        self.batch_norm2 = nn.BatchNorm2d(num_features=64)\n",
        "        # Опять максимальный пулинг, в итоге 64 карты фич получаются размером 7*7 каждая\n",
        "        self.pool2 = nn.MaxPool2d(kernel_size=2)\n",
        "        # В линейный слой на 512 нодов\n",
        "        self.linear1 = nn.Linear(in_features=64*7*7, out_features=512)\n",
        "        # Постараюсь убрать оверфиттинг после этого слоя, чтобы модель хорошо работала в общем, а не на конкретных обучающих данных\n",
        "        self.dropout1 = nn.Dropout(p=0.5)\n",
        "        # Еще один полносвязный слой, до него после дропаута была ReLU\n",
        "        self.linear2 = nn.Linear(in_features=512, out_features=128)\n",
        "        # Дальше повторяется ситуация с полносвязными слоями, с уменьшением кол-ва нодов\n",
        "        self.dropout2 = nn.Dropout(p=0.5)\n",
        "        # После следующего линейного слоя не будет функции активации. Можно было бы использовать софтмакс,\n",
        "        # но выбранная мною функция потерь прекрасно справится и без этого. И даже лучше, чем с этим.\n",
        "        self.linear3 = nn.Linear(in_features=128, out_features=10)\n",
        "\n",
        "    def forward(self, x):\n",
        "        # Здесь оставила дебаггинг принты, чтобы проверять, какой размерности тензоры путешествуют по сети\n",
        "        #print(f\"Вход: {x.shape}\")\n",
        "        x = nn.ReLU()(self.batch_norm1(self.conv1(x)))\n",
        "        #print(f\"После conv1: {x.shape}\")\n",
        "        x = self.pool1(x)\n",
        "        #print(f\"После pool1: {x.shape}\")\n",
        "        x = nn.ReLU()(self.batch_norm2(self.conv2(x)))\n",
        "        #print(f\"После conv2: {x.shape}\")\n",
        "        x = self.pool2(x)\n",
        "        #print(f\"После pool2: {x.shape}\")\n",
        "        batch_size = x.size(0)\n",
        "        x = x.view(batch_size, -1)\n",
        "        #print(f\"После view до linear1: {x.shape}\")\n",
        "        x = nn.ReLU()(self.linear1(x))\n",
        "        #print(f\"После linear1: {x.shape}\")\n",
        "        x = self.dropout1(x)\n",
        "        x = nn.ReLU()(self.linear2(x))\n",
        "        #print(f\"После linear2: {x.shape}\")\n",
        "        x = self.dropout2(x)\n",
        "        x = self.linear3(x)\n",
        "        #print(f\"После linear3 выход: {x.shape}\")\n",
        "        return x"
      ],
      "metadata": {
        "id": "IBZIVy_eUKSF"
      },
      "execution_count": null,
      "outputs": []
    },
    {
      "cell_type": "code",
      "source": [
        "# Инстанциирую модель\n",
        "model = FashionConvClass().to(device)\n",
        "# Проверяю, на чём работаем\n",
        "print(f\"Model device: {next(model.parameters()).device}\")\n",
        "\n",
        "# Функция потерь - кроссэнтропия с логитами\n",
        "criterion = nn.CrossEntropyLoss()\n",
        "# Этот оптимизатор лучше всего себя показал, пробовала RMSprop (норм, но медленнее),\n",
        "# Adam - просто ужас, SGD с моментумом и нестеровым - чуть хуже и медленнее.\n",
        "optimizer = optim.SGD(model.parameters(), lr=0.1)"
      ],
      "metadata": {
        "colab": {
          "base_uri": "https://localhost:8080/"
        },
        "id": "4_cZCdaufVCp",
        "outputId": "fb4d64a7-256d-42ae-bab8-2645cba1d0e1"
      },
      "execution_count": null,
      "outputs": [
        {
          "output_type": "stream",
          "name": "stdout",
          "text": [
            "Model device: cuda:0\n"
          ]
        }
      ]
    },
    {
      "cell_type": "code",
      "source": [
        "# Архитектура отдельно\n",
        "model"
      ],
      "metadata": {
        "colab": {
          "base_uri": "https://localhost:8080/"
        },
        "id": "pw9mml_GpbMF",
        "outputId": "38c384c0-3186-4cd1-ccb6-8de966181803"
      },
      "execution_count": null,
      "outputs": [
        {
          "output_type": "execute_result",
          "data": {
            "text/plain": [
              "FashionConvClass(\n",
              "  (conv1): Conv2d(1, 32, kernel_size=(3, 3), stride=(1, 1), padding=(1, 1))\n",
              "  (batch_norm1): BatchNorm2d(32, eps=1e-05, momentum=0.1, affine=True, track_running_stats=True)\n",
              "  (pool1): MaxPool2d(kernel_size=2, stride=2, padding=0, dilation=1, ceil_mode=False)\n",
              "  (conv2): Conv2d(32, 64, kernel_size=(3, 3), stride=(1, 1), padding=(1, 1))\n",
              "  (batch_norm2): BatchNorm2d(64, eps=1e-05, momentum=0.1, affine=True, track_running_stats=True)\n",
              "  (pool2): MaxPool2d(kernel_size=2, stride=2, padding=0, dilation=1, ceil_mode=False)\n",
              "  (linear1): Linear(in_features=3136, out_features=512, bias=True)\n",
              "  (dropout1): Dropout(p=0.5, inplace=False)\n",
              "  (linear2): Linear(in_features=512, out_features=128, bias=True)\n",
              "  (dropout2): Dropout(p=0.5, inplace=False)\n",
              "  (linear3): Linear(in_features=128, out_features=10, bias=True)\n",
              ")"
            ]
          },
          "metadata": {},
          "execution_count": 5
        }
      ]
    },
    {
      "cell_type": "code",
      "source": [
        "# Небольшой чит, проверить, как себя тензоры ведут\n",
        "'''\n",
        "x = torch.rand(1, 1, 28, 28).to(device)  # batch_size=1, 1 канал, 28x28 ш*в размер\n",
        "\n",
        "model.train()\n",
        "optimizer.zero_grad()\n",
        "y = model(x)\n",
        "'''"
      ],
      "metadata": {
        "colab": {
          "base_uri": "https://localhost:8080/",
          "height": 36
        },
        "id": "OyHkWTMobSrc",
        "outputId": "fe5308e7-694b-40ee-a481-996ceacf3daa"
      },
      "execution_count": null,
      "outputs": [
        {
          "output_type": "execute_result",
          "data": {
            "text/plain": [
              "'\\nx = torch.rand(1, 1, 28, 28).to(device)  # batch_size=1, 1 канал, 28x28 ш*в размер\\n\\nmodel.train()\\noptimizer.zero_grad()\\ny = model(x)\\n'"
            ],
            "application/vnd.google.colaboratory.intrinsic+json": {
              "type": "string"
            }
          },
          "metadata": {},
          "execution_count": 6
        }
      ]
    },
    {
      "cell_type": "markdown",
      "source": [
        "Результат предыдущей проверки:\n",
        "\n",
        "- Вход: torch.Size([1, 1, 28, 28])\n",
        "- После conv1: torch.Size([1, 32, 28, 28])\n",
        "- После pool1: torch.Size([1, 32, 14, 14])\n",
        "- После conv2: torch.Size([1, 64, 14, 14])\n",
        "- После pool2: torch.Size([1, 64, 7, 7])\n",
        "- После view до linear1: torch.Size([1, 3136])\n",
        "- После linear1: torch.Size([1, 512])\n",
        "- После linear2: torch.Size([1, 128])\n",
        "- После linear3 выход: torch.Size([1, 10])\n",
        "\n",
        "Соответственно, \"в бою\" вместо 1 в самом начале тензора будет стоять размер мини-батча, всё остальное соответствует задуманной и описанной архитектуре."
      ],
      "metadata": {
        "id": "sEl8gq2g2IYJ"
      }
    },
    {
      "cell_type": "markdown",
      "source": [
        "## Обучение"
      ],
      "metadata": {
        "id": "anrpc39C3bo6"
      }
    },
    {
      "cell_type": "code",
      "source": [
        "# Обучаю модель, 15 эпох\n",
        "num_epochs = 15\n",
        "# Графички построю тоже\n",
        "training_accuracy_list = []\n",
        "test_accuracy_list = []\n",
        "\n",
        "for epoch in range(num_epochs):\n",
        "    model.train()\n",
        "    training_loss = 0.0\n",
        "    accuracy_train = 0\n",
        "    \n",
        "    # Расписывать не буду, тут классика - обнуляю градиенты, предсказываю, оптимизатор считает, обновляет веса\n",
        "    # Новое по сравнению с прошлой работой - включила в каждую эпоху расчёт точности модели на тестовых данных после отзыва преподавателя\n",
        "    for i, data in enumerate(train_loader, 0):\n",
        "        inputs, labels = data[0].to(device), data[1].to(device)\n",
        "        optimizer.zero_grad()\n",
        "        outputs = model(inputs)\n",
        "        loss = criterion(outputs, labels)\n",
        "        loss.backward()\n",
        "        optimizer.step()\n",
        "        training_loss += loss.item()\n",
        "        \n",
        "        _, predicted = torch.max(outputs.data, 1)\n",
        "        accuracy_train += (predicted == labels).sum().item()\n",
        "    \n",
        "    training_loss = training_loss / len(train_loader)  \n",
        "    accuracy_train = 100 * accuracy_train / len(train_loader.dataset)\n",
        "    training_accuracy_list.append(accuracy_train)\n",
        "    \n",
        "    model.eval()\n",
        "    accuracy_test = 0\n",
        "    \n",
        "    # Здесь использую no_grad(), так как при оценке на тесте не надо считать градиенты и обновлять веса\n",
        "    with torch.no_grad():\n",
        "        for data in test_loader:\n",
        "            inputs, labels = data[0].to(device), data[1].to(device)\n",
        "            outputs = model(inputs)\n",
        "            _, predicted = torch.max(outputs.data, 1)\n",
        "            accuracy_test += (predicted == labels).sum().item()\n",
        "    \n",
        "        accuracy_test = 100 * accuracy_test / len(test_loader.dataset)\n",
        "        test_accuracy_list.append(accuracy_test)\n",
        "    \n",
        "    print(f'Эпоха обучения [{epoch+1}/{num_epochs}], Потеря: {training_loss:.4f}, Точность обучения: {accuracy_train:.2f}%, Точность на тестовых данных: {accuracy_test:.2f}%\\n')"
      ],
      "metadata": {
        "colab": {
          "base_uri": "https://localhost:8080/"
        },
        "id": "A72rhdYT7SKQ",
        "outputId": "4cde76f7-4c66-4438-f5cb-9ad6f44ef7bc"
      },
      "execution_count": null,
      "outputs": [
        {
          "output_type": "stream",
          "name": "stdout",
          "text": [
            "Эпоха обучения [1/15], Потеря: 0.5748, Точность обучения: 79.28%, Точность на тестовых данных: 83.94%\n",
            "\n",
            "Эпоха обучения [2/15], Потеря: 0.3780, Точность обучения: 86.61%, Точность на тестовых данных: 88.19%\n",
            "\n",
            "Эпоха обучения [3/15], Потеря: 0.3231, Точность обучения: 88.33%, Точность на тестовых данных: 90.13%\n",
            "\n",
            "Эпоха обучения [4/15], Потеря: 0.2903, Точность обучения: 89.66%, Точность на тестовых данных: 89.31%\n",
            "\n",
            "Эпоха обучения [5/15], Потеря: 0.2663, Точность обучения: 90.34%, Точность на тестовых данных: 89.70%\n",
            "\n",
            "Эпоха обучения [6/15], Потеря: 0.2432, Точность обучения: 91.31%, Точность на тестовых данных: 89.94%\n",
            "\n",
            "Эпоха обучения [7/15], Потеря: 0.2277, Точность обучения: 91.77%, Точность на тестовых данных: 91.49%\n",
            "\n",
            "Эпоха обучения [8/15], Потеря: 0.2123, Точность обучения: 92.36%, Точность на тестовых данных: 91.74%\n",
            "\n",
            "Эпоха обучения [9/15], Потеря: 0.2010, Точность обучения: 92.70%, Точность на тестовых данных: 91.34%\n",
            "\n",
            "Эпоха обучения [10/15], Потеря: 0.1896, Точность обучения: 93.14%, Точность на тестовых данных: 91.63%\n",
            "\n",
            "Эпоха обучения [11/15], Потеря: 0.1758, Точность обучения: 93.66%, Точность на тестовых данных: 91.25%\n",
            "\n",
            "Эпоха обучения [12/15], Потеря: 0.1669, Точность обучения: 93.98%, Точность на тестовых данных: 92.08%\n",
            "\n",
            "Эпоха обучения [13/15], Потеря: 0.1568, Точность обучения: 94.25%, Точность на тестовых данных: 92.17%\n",
            "\n",
            "Эпоха обучения [14/15], Потеря: 0.1495, Точность обучения: 94.51%, Точность на тестовых данных: 92.16%\n",
            "\n",
            "Эпоха обучения [15/15], Потеря: 0.1396, Точность обучения: 94.78%, Точность на тестовых данных: 92.42%\n",
            "\n"
          ]
        }
      ]
    },
    {
      "cell_type": "markdown",
      "source": [
        "# Графики и вывод"
      ],
      "metadata": {
        "id": "fOHOn_h_3ehp"
      }
    },
    {
      "cell_type": "code",
      "source": [
        "# Небольшой графичек - наглядно помогает выбрать лучшую для данной задачи архитектуру\n",
        "plt.figure(figsize=(10, 6))\n",
        "plt.plot(range(1, 16), training_accuracy_list, label='Точность модели на обучении')\n",
        "plt.plot(range(1, 16), test_accuracy_list, label='Точность модели на тесте')\n",
        "\n",
        "# Добавляю финальные значения точности модели на 15 эпохе\n",
        "plt.annotate(str(round(training_accuracy_list[-1], 2)), xy=(15, training_accuracy_list[-1]), ha='center', va='bottom')\n",
        "plt.annotate(str(test_accuracy_list[-1]), xy=(15, test_accuracy_list[-1]), ha='center', va='bottom')\n",
        "\n",
        "plt.title('График изменения точности модели')\n",
        "plt.xlabel('Эпоха')\n",
        "plt.ylabel('Точность, %')\n",
        "\n",
        "# Не удержалась - поставила лимит для оси, чтобы приблизить графики и отследить изменение точности в больше масштабе\n",
        "plt.ylim([75, 100])\n",
        "plt.legend()\n",
        "\n",
        "plt.show()"
      ],
      "metadata": {
        "colab": {
          "base_uri": "https://localhost:8080/",
          "height": 404
        },
        "id": "29pObhCwQHoy",
        "outputId": "4895fe6f-3ddd-47f0-d483-1654eb94fdc5"
      },
      "execution_count": null,
      "outputs": [
        {
          "output_type": "display_data",
          "data": {
            "text/plain": [
              "<Figure size 720x432 with 1 Axes>"
            ],
            "image/png": "[encoded data removed]"
          },
          "metadata": {
            "needs_background": "light"
          }
        }
      ]
    },
    {
      "cell_type": "markdown",
      "source": [
        "**Вывод**\n",
        "\n",
        "В целом модель обучалась быстро, у меня была возможность проверить несколько архитектур - выбрала самую перспективную. Однако, введение второго свёрточного слоя увеличило время обучения вдвое, при этот точность модели возросла всего на 1%. В моём случае это была интересная практика, в реальных условиях я вряд ли добавила бы второй свёрточный слой.\n",
        "\n",
        "И наконец-то переключение на GPU дало свои плоды. Колоссальная экономия времени обучения модели - что неудивительно, ведь GPU идеален для свёрток."
      ],
      "metadata": {
        "id": "W3YC7cQF231v"
      }
    }
  ]
}