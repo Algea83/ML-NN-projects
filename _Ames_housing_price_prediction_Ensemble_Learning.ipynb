{
  "nbformat": 4,
  "nbformat_minor": 0,
  "metadata": {
    "colab": {
      "name": "HW_ML_L11.ipynb",
      "provenance": [],
      "collapsed_sections": [
        "xc8D6E0zf1Wm",
        "tgJVP95RgryM",
        "vYwzHz6EeMnZ",
        "RaMEjAKN2YAq",
        "i3CNX2Qo2e9G",
        "RMvQkRL_2io6",
        "bKYXWmqX769h",
        "Hc___AhN-L6w",
        "Dzw048zo-R5d",
        "JZ6YZQhx-XK2",
        "VLczL5b7DTbk"
      ]
    },
    "kernelspec": {
      "name": "python3",
      "display_name": "Python 3"
    },
    "language_info": {
      "name": "python"
    }
  },
  "cells": [
    {
      "cell_type": "markdown",
      "source": [
        "# Ансамблирование"
      ],
      "metadata": {
        "id": "xc8D6E0zf1Wm"
      }
    },
    {
      "cell_type": "code",
      "source": [
        "import pandas as pd\n",
        "import numpy as np\n",
        "import matplotlib.pyplot as plt\n",
        "import seaborn as sns\n",
        "import itertools\n",
        "from sklearn.model_selection import train_test_split\n",
        "\n",
        "%matplotlib inline"
      ],
      "metadata": {
        "id": "tPBpy-t6g0kU"
      },
      "execution_count": null,
      "outputs": []
    },
    {
      "cell_type": "markdown",
      "source": [
        "## Загрузка данных и EDA"
      ],
      "metadata": {
        "id": "tgJVP95RgryM"
      }
    },
    {
      "cell_type": "code",
      "execution_count": null,
      "metadata": {
        "id": "6j7Rpb-nfvcW"
      },
      "outputs": [],
      "source": [
        "# Загрузим набор данных\n",
        "df_orig = pd.read_csv('ames_price.csv')\n",
        "\n",
        "# Уберем столбец с ИД как неинформативный и создающий ненужный шум\n",
        "df_full = df_orig.drop('Id', axis=1)"
      ]
    },
    {
      "cell_type": "code",
      "source": [
        "df_full.head(3)"
      ],
      "metadata": {
        "colab": {
          "base_uri": "https://localhost:8080/"
        },
        "id": "njLyS6hLhEJr",
        "outputId": "2566deb2-06c4-4f9e-8a5c-ebec231f00f7"
      },
      "execution_count": null,
      "outputs": [
        {
          "output_type": "execute_result",
          "data": {
            "text/html": [
              "\n",
              "  <div id=\"df-da4bcc6c-9415-4636-91be-f29103616ac3\">\n",
              "    <div class=\"colab-df-container\">\n",
              "      <div>\n",
              "<style scoped>\n",
              "    .dataframe tbody tr th:only-of-type {\n",
              "        vertical-align: middle;\n",
              "    }\n",
              "\n",
              "    .dataframe tbody tr th {\n",
              "        vertical-align: top;\n",
              "    }\n",
              "\n",
              "    .dataframe thead th {\n",
              "        text-align: right;\n",
              "    }\n",
              "</style>\n",
              "<table border=\"1\" class=\"dataframe\">\n",
              "  <thead>\n",
              "    <tr style=\"text-align: right;\">\n",
              "      <th></th>\n",
              "      <th>MSSubClass</th>\n",
              "      <th>MSZoning</th>\n",
              "      <th>LotFrontage</th>\n",
              "      <th>LotArea</th>\n",
              "      <th>Street</th>\n",
              "      <th>Alley</th>\n",
              "      <th>LotShape</th>\n",
              "      <th>LandContour</th>\n",
              "      <th>Utilities</th>\n",
              "      <th>LotConfig</th>\n",
              "      <th>LandSlope</th>\n",
              "      <th>Neighborhood</th>\n",
              "      <th>Condition1</th>\n",
              "      <th>Condition2</th>\n",
              "      <th>BldgType</th>\n",
              "      <th>HouseStyle</th>\n",
              "      <th>OverallQual</th>\n",
              "      <th>OverallCond</th>\n",
              "      <th>YearBuilt</th>\n",
              "      <th>YearRemodAdd</th>\n",
              "      <th>RoofStyle</th>\n",
              "      <th>RoofMatl</th>\n",
              "      <th>Exterior1st</th>\n",
              "      <th>Exterior2nd</th>\n",
              "      <th>MasVnrType</th>\n",
              "      <th>MasVnrArea</th>\n",
              "      <th>ExterQual</th>\n",
              "      <th>ExterCond</th>\n",
              "      <th>Foundation</th>\n",
              "      <th>BsmtQual</th>\n",
              "      <th>BsmtCond</th>\n",
              "      <th>BsmtExposure</th>\n",
              "      <th>BsmtFinType1</th>\n",
              "      <th>BsmtFinSF1</th>\n",
              "      <th>BsmtFinType2</th>\n",
              "      <th>BsmtFinSF2</th>\n",
              "      <th>BsmtUnfSF</th>\n",
              "      <th>TotalBsmtSF</th>\n",
              "      <th>Heating</th>\n",
              "      <th>HeatingQC</th>\n",
              "      <th>CentralAir</th>\n",
              "      <th>Electrical</th>\n",
              "      <th>1stFlrSF</th>\n",
              "      <th>2ndFlrSF</th>\n",
              "      <th>LowQualFinSF</th>\n",
              "      <th>GrLivArea</th>\n",
              "      <th>BsmtFullBath</th>\n",
              "      <th>BsmtHalfBath</th>\n",
              "      <th>FullBath</th>\n",
              "      <th>HalfBath</th>\n",
              "      <th>BedroomAbvGr</th>\n",
              "      <th>KitchenAbvGr</th>\n",
              "      <th>KitchenQual</th>\n",
              "      <th>TotRmsAbvGrd</th>\n",
              "      <th>Functional</th>\n",
              "      <th>Fireplaces</th>\n",
              "      <th>FireplaceQu</th>\n",
              "      <th>GarageType</th>\n",
              "      <th>GarageYrBlt</th>\n",
              "      <th>GarageFinish</th>\n",
              "      <th>GarageCars</th>\n",
              "      <th>GarageArea</th>\n",
              "      <th>GarageQual</th>\n",
              "      <th>GarageCond</th>\n",
              "      <th>PavedDrive</th>\n",
              "      <th>WoodDeckSF</th>\n",
              "      <th>OpenPorchSF</th>\n",
              "      <th>EnclosedPorch</th>\n",
              "      <th>3SsnPorch</th>\n",
              "      <th>ScreenPorch</th>\n",
              "      <th>PoolArea</th>\n",
              "      <th>PoolQC</th>\n",
              "      <th>Fence</th>\n",
              "      <th>MiscFeature</th>\n",
              "      <th>MiscVal</th>\n",
              "      <th>MoSold</th>\n",
              "      <th>YrSold</th>\n",
              "      <th>SaleType</th>\n",
              "      <th>SaleCondition</th>\n",
              "      <th>SalePrice</th>\n",
              "    </tr>\n",
              "  </thead>\n",
              "  <tbody>\n",
              "    <tr>\n",
              "      <th>0</th>\n",
              "      <td>60</td>\n",
              "      <td>RL</td>\n",
              "      <td>65.0</td>\n",
              "      <td>8450</td>\n",
              "      <td>Pave</td>\n",
              "      <td>NaN</td>\n",
              "      <td>Reg</td>\n",
              "      <td>Lvl</td>\n",
              "      <td>AllPub</td>\n",
              "      <td>Inside</td>\n",
              "      <td>Gtl</td>\n",
              "      <td>CollgCr</td>\n",
              "      <td>Norm</td>\n",
              "      <td>Norm</td>\n",
              "      <td>1Fam</td>\n",
              "      <td>2Story</td>\n",
              "      <td>7</td>\n",
              "      <td>5</td>\n",
              "      <td>2003</td>\n",
              "      <td>2003</td>\n",
              "      <td>Gable</td>\n",
              "      <td>CompShg</td>\n",
              "      <td>VinylSd</td>\n",
              "      <td>VinylSd</td>\n",
              "      <td>BrkFace</td>\n",
              "      <td>196.0</td>\n",
              "      <td>Gd</td>\n",
              "      <td>TA</td>\n",
              "      <td>PConc</td>\n",
              "      <td>Gd</td>\n",
              "      <td>TA</td>\n",
              "      <td>No</td>\n",
              "      <td>GLQ</td>\n",
              "      <td>706</td>\n",
              "      <td>Unf</td>\n",
              "      <td>0</td>\n",
              "      <td>150</td>\n",
              "      <td>856</td>\n",
              "      <td>GasA</td>\n",
              "      <td>Ex</td>\n",
              "      <td>Y</td>\n",
              "      <td>SBrkr</td>\n",
              "      <td>856</td>\n",
              "      <td>854</td>\n",
              "      <td>0</td>\n",
              "      <td>1710</td>\n",
              "      <td>1</td>\n",
              "      <td>0</td>\n",
              "      <td>2</td>\n",
              "      <td>1</td>\n",
              "      <td>3</td>\n",
              "      <td>1</td>\n",
              "      <td>Gd</td>\n",
              "      <td>8</td>\n",
              "      <td>Typ</td>\n",
              "      <td>0</td>\n",
              "      <td>NaN</td>\n",
              "      <td>Attchd</td>\n",
              "      <td>2003.0</td>\n",
              "      <td>RFn</td>\n",
              "      <td>2</td>\n",
              "      <td>548</td>\n",
              "      <td>TA</td>\n",
              "      <td>TA</td>\n",
              "      <td>Y</td>\n",
              "      <td>0</td>\n",
              "      <td>61</td>\n",
              "      <td>0</td>\n",
              "      <td>0</td>\n",
              "      <td>0</td>\n",
              "      <td>0</td>\n",
              "      <td>NaN</td>\n",
              "      <td>NaN</td>\n",
              "      <td>NaN</td>\n",
              "      <td>0</td>\n",
              "      <td>2</td>\n",
              "      <td>2008</td>\n",
              "      <td>WD</td>\n",
              "      <td>Normal</td>\n",
              "      <td>208500</td>\n",
              "    </tr>\n",
              "    <tr>\n",
              "      <th>1</th>\n",
              "      <td>20</td>\n",
              "      <td>RL</td>\n",
              "      <td>80.0</td>\n",
              "      <td>9600</td>\n",
              "      <td>Pave</td>\n",
              "      <td>NaN</td>\n",
              "      <td>Reg</td>\n",
              "      <td>Lvl</td>\n",
              "      <td>AllPub</td>\n",
              "      <td>FR2</td>\n",
              "      <td>Gtl</td>\n",
              "      <td>Veenker</td>\n",
              "      <td>Feedr</td>\n",
              "      <td>Norm</td>\n",
              "      <td>1Fam</td>\n",
              "      <td>1Story</td>\n",
              "      <td>6</td>\n",
              "      <td>8</td>\n",
              "      <td>1976</td>\n",
              "      <td>1976</td>\n",
              "      <td>Gable</td>\n",
              "      <td>CompShg</td>\n",
              "      <td>MetalSd</td>\n",
              "      <td>MetalSd</td>\n",
              "      <td>None</td>\n",
              "      <td>0.0</td>\n",
              "      <td>TA</td>\n",
              "      <td>TA</td>\n",
              "      <td>CBlock</td>\n",
              "      <td>Gd</td>\n",
              "      <td>TA</td>\n",
              "      <td>Gd</td>\n",
              "      <td>ALQ</td>\n",
              "      <td>978</td>\n",
              "      <td>Unf</td>\n",
              "      <td>0</td>\n",
              "      <td>284</td>\n",
              "      <td>1262</td>\n",
              "      <td>GasA</td>\n",
              "      <td>Ex</td>\n",
              "      <td>Y</td>\n",
              "      <td>SBrkr</td>\n",
              "      <td>1262</td>\n",
              "      <td>0</td>\n",
              "      <td>0</td>\n",
              "      <td>1262</td>\n",
              "      <td>0</td>\n",
              "      <td>1</td>\n",
              "      <td>2</td>\n",
              "      <td>0</td>\n",
              "      <td>3</td>\n",
              "      <td>1</td>\n",
              "      <td>TA</td>\n",
              "      <td>6</td>\n",
              "      <td>Typ</td>\n",
              "      <td>1</td>\n",
              "      <td>TA</td>\n",
              "      <td>Attchd</td>\n",
              "      <td>1976.0</td>\n",
              "      <td>RFn</td>\n",
              "      <td>2</td>\n",
              "      <td>460</td>\n",
              "      <td>TA</td>\n",
              "      <td>TA</td>\n",
              "      <td>Y</td>\n",
              "      <td>298</td>\n",
              "      <td>0</td>\n",
              "      <td>0</td>\n",
              "      <td>0</td>\n",
              "      <td>0</td>\n",
              "      <td>0</td>\n",
              "      <td>NaN</td>\n",
              "      <td>NaN</td>\n",
              "      <td>NaN</td>\n",
              "      <td>0</td>\n",
              "      <td>5</td>\n",
              "      <td>2007</td>\n",
              "      <td>WD</td>\n",
              "      <td>Normal</td>\n",
              "      <td>181500</td>\n",
              "    </tr>\n",
              "    <tr>\n",
              "      <th>2</th>\n",
              "      <td>60</td>\n",
              "      <td>RL</td>\n",
              "      <td>68.0</td>\n",
              "      <td>11250</td>\n",
              "      <td>Pave</td>\n",
              "      <td>NaN</td>\n",
              "      <td>IR1</td>\n",
              "      <td>Lvl</td>\n",
              "      <td>AllPub</td>\n",
              "      <td>Inside</td>\n",
              "      <td>Gtl</td>\n",
              "      <td>CollgCr</td>\n",
              "      <td>Norm</td>\n",
              "      <td>Norm</td>\n",
              "      <td>1Fam</td>\n",
              "      <td>2Story</td>\n",
              "      <td>7</td>\n",
              "      <td>5</td>\n",
              "      <td>2001</td>\n",
              "      <td>2002</td>\n",
              "      <td>Gable</td>\n",
              "      <td>CompShg</td>\n",
              "      <td>VinylSd</td>\n",
              "      <td>VinylSd</td>\n",
              "      <td>BrkFace</td>\n",
              "      <td>162.0</td>\n",
              "      <td>Gd</td>\n",
              "      <td>TA</td>\n",
              "      <td>PConc</td>\n",
              "      <td>Gd</td>\n",
              "      <td>TA</td>\n",
              "      <td>Mn</td>\n",
              "      <td>GLQ</td>\n",
              "      <td>486</td>\n",
              "      <td>Unf</td>\n",
              "      <td>0</td>\n",
              "      <td>434</td>\n",
              "      <td>920</td>\n",
              "      <td>GasA</td>\n",
              "      <td>Ex</td>\n",
              "      <td>Y</td>\n",
              "      <td>SBrkr</td>\n",
              "      <td>920</td>\n",
              "      <td>866</td>\n",
              "      <td>0</td>\n",
              "      <td>1786</td>\n",
              "      <td>1</td>\n",
              "      <td>0</td>\n",
              "      <td>2</td>\n",
              "      <td>1</td>\n",
              "      <td>3</td>\n",
              "      <td>1</td>\n",
              "      <td>Gd</td>\n",
              "      <td>6</td>\n",
              "      <td>Typ</td>\n",
              "      <td>1</td>\n",
              "      <td>TA</td>\n",
              "      <td>Attchd</td>\n",
              "      <td>2001.0</td>\n",
              "      <td>RFn</td>\n",
              "      <td>2</td>\n",
              "      <td>608</td>\n",
              "      <td>TA</td>\n",
              "      <td>TA</td>\n",
              "      <td>Y</td>\n",
              "      <td>0</td>\n",
              "      <td>42</td>\n",
              "      <td>0</td>\n",
              "      <td>0</td>\n",
              "      <td>0</td>\n",
              "      <td>0</td>\n",
              "      <td>NaN</td>\n",
              "      <td>NaN</td>\n",
              "      <td>NaN</td>\n",
              "      <td>0</td>\n",
              "      <td>9</td>\n",
              "      <td>2008</td>\n",
              "      <td>WD</td>\n",
              "      <td>Normal</td>\n",
              "      <td>223500</td>\n",
              "    </tr>\n",
              "  </tbody>\n",
              "</table>\n",
              "</div>\n",
              "      <button class=\"colab-df-convert\" onclick=\"convertToInteractive('df-da4bcc6c-9415-4636-91be-f29103616ac3')\"\n",
              "              title=\"Convert this dataframe to an interactive table.\"\n",
              "              style=\"display:none;\">\n",
              "        \n",
              "  <svg xmlns=\"http://www.w3.org/2000/svg\" height=\"24px\"viewBox=\"0 0 24 24\"\n",
              "       width=\"24px\">\n",
              "    <path d=\"M0 0h24v24H0V0z\" fill=\"none\"/>\n",
              "    <path d=\"M18.56 5.44l.94 2.06.94-2.06 2.06-.94-2.06-.94-.94-2.06-.94 2.06-2.06.94zm-11 1L8.5 8.5l.94-2.06 2.06-.94-2.06-.94L8.5 2.5l-.94 2.06-2.06.94zm10 10l.94 2.06.94-2.06 2.06-.94-2.06-.94-.94-2.06-.94 2.06-2.06.94z\"/><path d=\"M17.41 7.96l-1.37-1.37c-.4-.4-.92-.59-1.43-.59-.52 0-1.04.2-1.43.59L10.3 9.45l-7.72 7.72c-.78.78-.78 2.05 0 2.83L4 21.41c.39.39.9.59 1.41.59.51 0 1.02-.2 1.41-.59l7.78-7.78 2.81-2.81c.8-.78.8-2.07 0-2.86zM5.41 20L4 18.59l7.72-7.72 1.47 1.35L5.41 20z\"/>\n",
              "  </svg>\n",
              "      </button>\n",
              "      \n",
              "  <style>\n",
              "    .colab-df-container {\n",
              "      display:flex;\n",
              "      flex-wrap:wrap;\n",
              "      gap: 12px;\n",
              "    }\n",
              "\n",
              "    .colab-df-convert {\n",
              "      background-color: #E8F0FE;\n",
              "      border: none;\n",
              "      border-radius: 50%;\n",
              "      cursor: pointer;\n",
              "      display: none;\n",
              "      fill: #1967D2;\n",
              "      height: 32px;\n",
              "      padding: 0 0 0 0;\n",
              "      width: 32px;\n",
              "    }\n",
              "\n",
              "    .colab-df-convert:hover {\n",
              "      background-color: #E2EBFA;\n",
              "      box-shadow: 0px 1px 2px rgba(60, 64, 67, 0.3), 0px 1px 3px 1px rgba(60, 64, 67, 0.15);\n",
              "      fill: #174EA6;\n",
              "    }\n",
              "\n",
              "    [theme=dark] .colab-df-convert {\n",
              "      background-color: #3B4455;\n",
              "      fill: #D2E3FC;\n",
              "    }\n",
              "\n",
              "    [theme=dark] .colab-df-convert:hover {\n",
              "      background-color: #434B5C;\n",
              "      box-shadow: 0px 1px 3px 1px rgba(0, 0, 0, 0.15);\n",
              "      filter: drop-shadow(0px 1px 2px rgba(0, 0, 0, 0.3));\n",
              "      fill: #FFFFFF;\n",
              "    }\n",
              "  </style>\n",
              "\n",
              "      <script>\n",
              "        const buttonEl =\n",
              "          document.querySelector('#df-da4bcc6c-9415-4636-91be-f29103616ac3 button.colab-df-convert');\n",
              "        buttonEl.style.display =\n",
              "          google.colab.kernel.accessAllowed ? 'block' : 'none';\n",
              "\n",
              "        async function convertToInteractive(key) {\n",
              "          const element = document.querySelector('#df-da4bcc6c-9415-4636-91be-f29103616ac3');\n",
              "          const dataTable =\n",
              "            await google.colab.kernel.invokeFunction('convertToInteractive',\n",
              "                                                     [key], {});\n",
              "          if (!dataTable) return;\n",
              "\n",
              "          const docLinkHtml = 'Like what you see? Visit the ' +\n",
              "            '<a target=\"_blank\" href=https://colab.research.google.com/notebooks/data_table.ipynb>data table notebook</a>'\n",
              "            + ' to learn more about interactive tables.';\n",
              "          element.innerHTML = '';\n",
              "          dataTable['output_type'] = 'display_data';\n",
              "          await google.colab.output.renderOutput(dataTable, element);\n",
              "          const docLink = document.createElement('div');\n",
              "          docLink.innerHTML = docLinkHtml;\n",
              "          element.appendChild(docLink);\n",
              "        }\n",
              "      </script>\n",
              "    </div>\n",
              "  </div>\n",
              "  "
            ],
            "text/plain": [
              "   MSSubClass MSZoning  LotFrontage  ...  SaleType SaleCondition SalePrice\n",
              "0          60       RL         65.0  ...        WD        Normal    208500\n",
              "1          20       RL         80.0  ...        WD        Normal    181500\n",
              "2          60       RL         68.0  ...        WD        Normal    223500\n",
              "\n",
              "[3 rows x 80 columns]"
            ]
          },
          "metadata": {},
          "execution_count": 3
        }
      ]
    },
    {
      "cell_type": "code",
      "source": [
        "# Посмотрим, какие типы данных содержатся в наборе данных\n",
        "print(df_full.info(verbose=False))"
      ],
      "metadata": {
        "colab": {
          "base_uri": "https://localhost:8080/"
        },
        "id": "t2Kx_GSuhN5I",
        "outputId": "f23877d7-2462-413e-82bf-1521d76b0643"
      },
      "execution_count": null,
      "outputs": [
        {
          "output_type": "stream",
          "name": "stdout",
          "text": [
            "<class 'pandas.core.frame.DataFrame'>\n",
            "RangeIndex: 1460 entries, 0 to 1459\n",
            "Columns: 80 entries, MSSubClass to SalePrice\n",
            "dtypes: float64(3), int64(34), object(43)\n",
            "memory usage: 912.6+ KB\n",
            "None\n"
          ]
        }
      ]
    },
    {
      "cell_type": "markdown",
      "source": [
        "Итак, у нас в наборе данных 80 столбцов - 1 целевая переменная и 79 признаков, 43 из которых категориальные."
      ],
      "metadata": {
        "id": "VSKhOJFgk3F2"
      }
    },
    {
      "cell_type": "code",
      "source": [
        "# Посмотрим, сколько у нас пропущенных значений\n",
        "print(f'Количество пропущенных значений в наборе данных до обработки: {df_full.isna().sum().sum()}')\n",
        "\n",
        "# Количество пропущенных значений для такого набора данных весьма велико."
      ],
      "metadata": {
        "colab": {
          "base_uri": "https://localhost:8080/"
        },
        "id": "dNINJW4DlWaB",
        "outputId": "5d3f447e-3ba0-4680-fbfb-f77d4d71fabb"
      },
      "execution_count": null,
      "outputs": [
        {
          "output_type": "stream",
          "name": "stdout",
          "text": [
            "Количество пропущенных значений в наборе данных до обработки: 6965\n"
          ]
        }
      ]
    },
    {
      "cell_type": "code",
      "source": [
        "# Создадим копию набора данный, в которой удалим\\заменим отсутсвующие значения после EDA\n",
        "df_out = df_full.copy()\n",
        "\n",
        "# Для сравнения качества моделей в дальнейшем, оставим полный датасет с заменой отсутствующих значений на произвольное значение\n",
        "cat_col = df_full.select_dtypes(include=['object']).columns.tolist()\n",
        "df_full[cat_col] = df_full[cat_col].fillna('nan')\n",
        "\n",
        "num_col = df_full.select_dtypes(include=['float64', 'int64']).columns.tolist()\n",
        "df_full[num_col] = df_full[num_col].fillna(-999)\n",
        "\n",
        "print(f'Количество отсутствующих значений в полном наборе данных: {df_full.isna().sum().sum()}')\n",
        "print(f'Количество отсутствующих значений в копии набора данных: {df_out.isna().sum().sum()}')"
      ],
      "metadata": {
        "colab": {
          "base_uri": "https://localhost:8080/"
        },
        "id": "qWfnIYALgAK2",
        "outputId": "06429f0d-1a54-4a04-9fb0-046c5e04f390"
      },
      "execution_count": null,
      "outputs": [
        {
          "output_type": "stream",
          "name": "stdout",
          "text": [
            "Количество отсутствующих значений в полном наборе данных: 0\n",
            "Количество отсутствующих значений в копии набора данных: 6965\n"
          ]
        }
      ]
    },
    {
      "cell_type": "code",
      "source": [
        "# Напишем небольшую функцию для расчёта процента пропущенных значений в столбце\n",
        "# Параметры этой функции - \n",
        "def missing_values_to_drop(df, nan_ratio):\n",
        "  '''\n",
        "    Функция для расчёта процента пропущенных значений в столбце pandas датафрейма.\n",
        "    Функция принимает датафрейм и пороговый параметр процента пропущенных значений, выше которого\n",
        "    она собирает названия столбцов и процент пропущенных значений в словарь для ознакомления, а также\n",
        "    названия столбцов в список для последующей фильтрации датафрейма.\n",
        "    Функция возвращает словарь для ознакомления и список для фильтрации.\n",
        "  '''\n",
        "  # Общее число строк в наборе данных\n",
        "  total_rows = df.shape[0]\n",
        "\n",
        "  # Хранилище для названия столбцов и процентов пропущенных значений выше порогового параметра\n",
        "  miss_column_dict = {}\n",
        "\n",
        "  for column in df.columns:\n",
        "    nan = df[column].isna().sum()\n",
        "    ratio = round(nan*100/total_rows, 2)\n",
        "  \n",
        "  # Если процент больше порогового параметра\n",
        "    if ratio > nan_ratio:\n",
        "    # Добавим в хранилище\n",
        "      miss_column_dict[column] = ratio\n",
        "\n",
        "  list_to_drop = list(miss_column_dict.keys())\n",
        "  return miss_column_dict, list_to_drop"
      ],
      "metadata": {
        "id": "HgIudJGyupFw"
      },
      "execution_count": null,
      "outputs": []
    },
    {
      "cell_type": "code",
      "source": [
        "# Предположим, я хочу посмотреть на все столбцы, где больше 80% пропущенных значений\n",
        "# Целесообразно будет такие столбцы исключить полностью, ведь даже при замене пропусков на категорию-индикатор пропуска, эта категория-индикатор\n",
        "# может начать привносить ненужный шум\n",
        "col_80, list_80 = missing_values_to_drop(df_out, 80)\n",
        "\n",
        "for key, value in col_80.items():\n",
        "  print(f'В столбце {key} процент пропущенных значений: {value}')\n",
        "\n",
        "print(f'\\nСписок столбцов под удаление: {list_80}')"
      ],
      "metadata": {
        "colab": {
          "base_uri": "https://localhost:8080/"
        },
        "id": "KsZEl0MQvaD5",
        "outputId": "904bea64-7831-4c89-cbfe-58a408da7cce"
      },
      "execution_count": null,
      "outputs": [
        {
          "output_type": "stream",
          "name": "stdout",
          "text": [
            "В столбце Alley процент пропущенных значений: 93.77\n",
            "В столбце PoolQC процент пропущенных значений: 99.52\n",
            "В столбце Fence процент пропущенных значений: 80.75\n",
            "В столбце MiscFeature процент пропущенных значений: 96.3\n",
            "\n",
            "Список столбцов под удаление: ['Alley', 'PoolQC', 'Fence', 'MiscFeature']\n"
          ]
        }
      ]
    },
    {
      "cell_type": "code",
      "source": [
        "# Удалим эти столбцы\n",
        "#df_out = df_out.drop(df_out[list_80], axis=1)"
      ],
      "metadata": {
        "id": "UagZ1aZo0-NX"
      },
      "execution_count": null,
      "outputs": []
    },
    {
      "cell_type": "code",
      "source": [
        "# Посмотрим, сколько у нас пропущенных значений теперь\n",
        "print(f'Количество пропущенных значений в наборе данных после обработки: {df_out.isna().sum().sum()}')"
      ],
      "metadata": {
        "colab": {
          "base_uri": "https://localhost:8080/"
        },
        "id": "UUkVxcsX1H2W",
        "outputId": "2e9412db-c996-451a-dfa6-b8505a698d60"
      },
      "execution_count": null,
      "outputs": [
        {
          "output_type": "stream",
          "name": "stdout",
          "text": [
            "Количество пропущенных значений в наборе данных после обработки: 6965\n"
          ]
        }
      ]
    },
    {
      "cell_type": "code",
      "source": [
        "# Сам набор данных, в любом случае, не очень большой, поэтому удалять пропущенные значения контрпродуктивно\n",
        "# Предлагаю заменить пропущенные значения в категориальных переменных на NaN, чтобы, когда мы будем отображать категории\n",
        "# в численный вид, NaN тоже имела свою категорию\n",
        "cat_col = df_out.select_dtypes(include=['object']).columns.tolist()\n",
        "df_out[cat_col] = df_out[cat_col].fillna('nan')\n",
        "\n",
        "print(f'Количество пропущенных значений в наборе данных после замены категорий: {df_out.isna().sum().sum()}')"
      ],
      "metadata": {
        "colab": {
          "base_uri": "https://localhost:8080/"
        },
        "id": "Yxf9j5a9rVWp",
        "outputId": "3426025c-35b1-414d-fa5d-88de18dd76b7"
      },
      "execution_count": null,
      "outputs": [
        {
          "output_type": "stream",
          "name": "stdout",
          "text": [
            "Количество пропущенных значений в наборе данных после замены категорий: 348\n"
          ]
        }
      ]
    },
    {
      "cell_type": "markdown",
      "source": [
        "'''\n",
        "Перед тем, как заменять пропущенные значения в численных столбцах, предлагаю взглянуть на выбросы\n",
        "Боксплот по численным столбцам\n",
        "'''\n",
        "\n",
        "num_col = df_out.select_dtypes(include=['float64', 'int64']).columns.tolist()\n",
        "\n",
        "plt.rcParams[\"figure.figsize\"] = [10, 6]\n",
        "\n",
        "for n_col in df_out[num_col].columns:\n",
        "  \n",
        "  df_out[n_col].plot.box(vert=False)\n",
        "  \n",
        "  plt.title(n_col)\n",
        "  \n",
        "  plt.show()"
      ],
      "metadata": {
        "id": "NIfNfKSm2bDB"
      }
    },
    {
      "cell_type": "markdown",
      "source": [
        "По результатам исследования ящиков с усами:\n"
      ],
      "metadata": {
        "id": "SDeuLvb13-3V"
      }
    },
    {
      "cell_type": "code",
      "source": [
        "MSSubClass_o = df_out['MSSubClass'][df_out['MSSubClass'] > 150]\n",
        "print(f'Количество строк выбросов по боксплоту в столбце MSSubClass: {MSSubClass_o.count()}')\n",
        "\n",
        "LotFrontage_o = df_out['LotFrontage'][df_out['LotFrontage'] > 300]\n",
        "print(f'Количество строк выбросов по боксплоту в столбце LotFrontage: {LotFrontage_o.count()}')\n",
        "\n",
        "LotArea_o = df_out['LotArea'][df_out['LotArea'] > 100000]\n",
        "print(f'Количество строк выбросов по боксплоту в столбце LotArea: {LotArea_o.count()}')\n",
        "\n",
        "OverallQual_o = df_out['OverallQual'][df_out['OverallQual'] < 2]\n",
        "print(f'Количество строк выбросов по боксплоту в столбце LotArea: {OverallQual_o.count()}')\n",
        "\n",
        "OverallCond_o = df_out['OverallCond'][(df_out['OverallCond'] < 4) | (df_out['OverallCond'] > 7)]\n",
        "print(f'Количество строк выбросов по боксплоту в столбце OverallCond: {OverallCond_o.count()}')\n",
        "\n",
        "MasVnrArea_o = df_out['MasVnrArea'][df_out['MasVnrArea'] > 1100]\n",
        "print(f'Количество строк выбросов по боксплоту в столбце MasVnrArea: {MasVnrArea_o.count()}')\n",
        "\n",
        "BsmtFinSF1_o = df_out['BsmtFinSF1'][df_out['BsmtFinSF1'] > 3000]\n",
        "print(f'Количество строк выбросов по боксплоту в столбце BsmtFinSF1: {BsmtFinSF1_o.count()}')\n",
        "\n",
        "BsmtFinSF2_o = df_out['BsmtFinSF2'][df_out['BsmtFinSF2'] > 1400]\n",
        "print(f'Количество строк выбросов по боксплоту в столбце BsmtFinSF2: {BsmtFinSF2_o.count()}')\n",
        "\n",
        "BsmtUnfSF_o = df_out['BsmtUnfSF'][df_out['BsmtUnfSF'] > 2100]\n",
        "print(f'Количество строк выбросов по боксплоту в столбце BsmtUnfSF: {BsmtUnfSF_o.count()}')\n",
        "\n",
        "TotalBsmtSF_o = df_out['TotalBsmtSF'][df_out['TotalBsmtSF'] > 3000]\n",
        "print(f'Количество строк выбросов по боксплоту в столбце TotalBsmtSF: {TotalBsmtSF_o.count()}')\n",
        "\n",
        "_1stFlrSF_o = df_out['1stFlrSF'][df_out['1stFlrSF'] > 3000]\n",
        "print(f'Количество строк выбросов по боксплоту в столбце 1stFlrSF: {_1stFlrSF_o.count()}')\n",
        "\n",
        "_2ndFlrSF_o = df_out['2ndFlrSF'][df_out['2ndFlrSF'] > 2000]\n",
        "print(f'Количество строк выбросов по боксплоту в столбце 2ndFlrSF: {_2ndFlrSF_o.count()}')\n",
        "\n",
        "GrLivArea_o = df_out['GrLivArea'][df_out['GrLivArea'] > 4000]\n",
        "print(f'Количество строк выбросов по боксплоту в столбце GrLivArea: {GrLivArea_o.count()}')\n",
        "\n",
        "EnclosedPorch_o = df_out['EnclosedPorch'][df_out['EnclosedPorch'] > 500]\n",
        "print(f'Количество строк выбросов по боксплоту в столбце EnclosedPorch: {EnclosedPorch_o.count()}')\n",
        "\n",
        "_3SsnPorch_o = df_out['3SsnPorch'][df_out['3SsnPorch'] > 400]\n",
        "print(f'Количество строк выбросов по боксплоту в столбце 3SsnPorch: {_3SsnPorch_o.count()}')\n",
        "\n",
        "ScreenPorch_o = df_out['ScreenPorch'][df_out['ScreenPorch'] > 350]\n",
        "print(f'Количество строк выбросов по боксплоту в столбце ScreenPorch: {ScreenPorch_o.count()}')\n",
        "\n",
        "MiscVal_o = df_out['MiscVal'][df_out['MiscVal'] > 8000]\n",
        "print(f'Количество строк выбросов по боксплоту в столбце MiscVal: {MiscVal_o.count()}')"
      ],
      "metadata": {
        "colab": {
          "base_uri": "https://localhost:8080/"
        },
        "id": "K9sK66g53-Vm",
        "outputId": "75892d56-db6f-4b2e-a51a-59429935c9a1"
      },
      "execution_count": null,
      "outputs": [
        {
          "output_type": "stream",
          "name": "stdout",
          "text": [
            "Количество строк выбросов по боксплоту в столбце MSSubClass: 103\n",
            "Количество строк выбросов по боксплоту в столбце LotFrontage: 2\n",
            "Количество строк выбросов по боксплоту в столбце LotArea: 4\n",
            "Количество строк выбросов по боксплоту в столбце LotArea: 2\n",
            "Количество строк выбросов по боксплоту в столбце OverallCond: 125\n",
            "Количество строк выбросов по боксплоту в столбце MasVnrArea: 5\n",
            "Количество строк выбросов по боксплоту в столбце BsmtFinSF1: 1\n",
            "Количество строк выбросов по боксплоту в столбце BsmtFinSF2: 1\n",
            "Количество строк выбросов по боксплоту в столбце BsmtUnfSF: 3\n",
            "Количество строк выбросов по боксплоту в столбце TotalBsmtSF: 5\n",
            "Количество строк выбросов по боксплоту в столбце 1stFlrSF: 3\n",
            "Количество строк выбросов по боксплоту в столбце 2ndFlrSF: 1\n",
            "Количество строк выбросов по боксплоту в столбце GrLivArea: 4\n",
            "Количество строк выбросов по боксплоту в столбце EnclosedPorch: 1\n",
            "Количество строк выбросов по боксплоту в столбце 3SsnPorch: 2\n",
            "Количество строк выбросов по боксплоту в столбце ScreenPorch: 6\n",
            "Количество строк выбросов по боксплоту в столбце MiscVal: 2\n"
          ]
        }
      ]
    },
    {
      "cell_type": "code",
      "source": [
        "# Список для хранения индексов выбросов\n",
        "out_col = []\n",
        "#out_col.append(LotFrontage_o.index.tolist())\n",
        "out_col.append(LotArea_o.index.tolist())\n",
        "out_col.append(OverallQual_o.index.tolist())\n",
        "out_col.append(MasVnrArea_o.index.tolist())\n",
        "out_col.append(BsmtFinSF1_o.index.tolist())\n",
        "out_col.append(BsmtFinSF2_o.index.tolist())\n",
        "out_col.append(BsmtUnfSF_o.index.tolist())\n",
        "out_col.append(TotalBsmtSF_o.index.tolist())\n",
        "out_col.append(_1stFlrSF_o.index.tolist())\n",
        "out_col.append(_2ndFlrSF_o.index.tolist())\n",
        "out_col.append(GrLivArea_o.index.tolist())\n",
        "out_col.append(EnclosedPorch_o.index.tolist())\n",
        "out_col.append(_3SsnPorch_o.index.tolist())\n",
        "out_col.append(ScreenPorch_o.index.tolist())\n",
        "out_col.append(MiscVal_o.index.tolist())\n",
        "\n",
        "# Делаем из списка списков простой список\n",
        "out_col = list(itertools.chain.from_iterable(out_col))\n",
        "\n",
        "# Удаляем дубликаты\n",
        "out_col = list(dict.fromkeys(out_col))\n",
        "\n",
        "# Сколько всего строк с выбросами удалю из набора данных\n",
        "print(f'Всего выбросов под удаление: {len(out_col)}, процент строк под удаление: {round(len(out_col)*100/df_out.shape[0], 2)}')"
      ],
      "metadata": {
        "colab": {
          "base_uri": "https://localhost:8080/"
        },
        "id": "vdN2A1N7I972",
        "outputId": "67dfa7b7-e393-42e1-8569-0840519da031"
      },
      "execution_count": null,
      "outputs": [
        {
          "output_type": "stream",
          "name": "stdout",
          "text": [
            "Всего выбросов под удаление: 32, процент строк под удаление: 2.19\n"
          ]
        }
      ]
    },
    {
      "cell_type": "code",
      "source": [
        "# Удаляем выбросы по индексам\n",
        "df_out = df_out.drop(index=out_col)\n",
        "\n",
        "# Обновим индексы\n",
        "df_out = df_out.reset_index(drop=True)\n",
        "df_full = df_full.reset_index(drop=True)\n",
        "\n",
        "# Заменим пропущенные значения в числовых столбцах на медианное\n",
        "df_out = df_out.fillna(df_out.median())\n",
        "\n",
        "print(f'Количество отсутствующих значений в датасете без выбросов: {df_out.isna().sum().sum()}')\n",
        "print(f'Количество отсутствующих значений в полном датасете: {df_full.isna().sum().sum()}')"
      ],
      "metadata": {
        "colab": {
          "base_uri": "https://localhost:8080/"
        },
        "id": "GKtHx0_9bZRv",
        "outputId": "5398d32a-8f5b-4113-fab2-8dc7506e8484"
      },
      "execution_count": null,
      "outputs": [
        {
          "output_type": "stream",
          "name": "stdout",
          "text": [
            "Количество отсутствующих значений в датасете без выбросов: 0\n",
            "Количество отсутствующих значений в полном датасете: 0\n"
          ]
        }
      ]
    },
    {
      "cell_type": "markdown",
      "source": [
        "## Подготовка данных к моделированию"
      ],
      "metadata": {
        "id": "vYwzHz6EeMnZ"
      }
    },
    {
      "cell_type": "code",
      "source": [
        "def cat_str_to_num(df):\n",
        "  '''\n",
        "    Функция для преобразования категориальных строковых столбцов в столбцы-индикаторы.\n",
        "    Функция принимает датафрейм. \n",
        "    Функция возвращает датафрейм с преобразованными столбцами, где больше нет строковых значений.\n",
        "  '''\n",
        "  cat_col = df.select_dtypes(include=['object', 'category']).columns.tolist()\n",
        "  for column in df[cat_col]:\n",
        "    df_dum = pd.get_dummies(df[column])\n",
        "    df = pd.concat([df, df_dum], axis='columns')\n",
        "    df.drop([column], axis='columns', inplace=True)\n",
        "  return df"
      ],
      "metadata": {
        "id": "zUCg5IvhmnZu"
      },
      "execution_count": null,
      "outputs": []
    },
    {
      "cell_type": "code",
      "source": [
        "# Преобразуем оба датафрейма из прошлой части, чтобы подготовить их для отправки в модель\n",
        "df_out = cat_str_to_num(df_out)\n",
        "df_full = cat_str_to_num(df_full)"
      ],
      "metadata": {
        "id": "vezGPSCln4xr"
      },
      "execution_count": null,
      "outputs": []
    },
    {
      "cell_type": "code",
      "source": [
        "def make_x_y_lists(df, target):\n",
        "  '''\n",
        "    Функция для создания списка столбцов для признаков и записи значения столбца целевой переменной.\n",
        "    Принимает в качестве параметров датафрейм и наименование столбца целевой переменной.\n",
        "    Выдает датафрейм с признаками и вектор целевой переменной\n",
        "  '''\n",
        "  x = df.loc[:, df.columns != target]\n",
        "  y = df[target]\n",
        "  return x, y"
      ],
      "metadata": {
        "id": "jTlGK8DdtImx"
      },
      "execution_count": null,
      "outputs": []
    },
    {
      "cell_type": "code",
      "source": [
        "def train_test(x, y, size=0.25, random_seed=42):\n",
        "  '''\n",
        "    Функция для разделения набора данных на обучающую и тестовую выборки.\n",
        "    Принимает отфильтрованный на признаки и целевую переменную набор данных, размер тестовой выборки и фиксатор генератора случайных чисел.\n",
        "    Возвращает набор данных, разделенный на тестовую и обучающую выборки\n",
        "  '''\n",
        "  X_train, X_test, y_train, y_test = train_test_split(x, y, test_size=size, random_state=random_seed)\n",
        "  return X_train, X_test, y_train, y_test"
      ],
      "metadata": {
        "id": "lrx4hn_7sbj6"
      },
      "execution_count": null,
      "outputs": []
    },
    {
      "cell_type": "code",
      "source": [
        "# Разделим наборы данных на обучающие и тестовые выборки\n",
        "# Обработанный датасет без выбросов\n",
        "x_out, y_out = make_x_y_lists(df_out, 'SalePrice')\n",
        "X_train_out, X_test_out, y_train_out, y_test_out = train_test(x_out, y_out)\n",
        "\n",
        "# Полный датасет\n",
        "x_full, y_full = make_x_y_lists(df_full, 'SalePrice')\n",
        "X_train_full, X_test_full, y_train_full, y_test_full = train_test(x_full, y_full)"
      ],
      "metadata": {
        "id": "O3LkMKDdt_aR"
      },
      "execution_count": null,
      "outputs": []
    },
    {
      "cell_type": "markdown",
      "source": [
        "## Базовая модель, я взяла линейную регрессию"
      ],
      "metadata": {
        "id": "RaMEjAKN2YAq"
      }
    },
    {
      "cell_type": "code",
      "source": [
        "from sklearn.linear_model import LinearRegression\n",
        "\n",
        "base_model = {}"
      ],
      "metadata": {
        "id": "0CsGlOeM2nht"
      },
      "execution_count": null,
      "outputs": []
    },
    {
      "cell_type": "markdown",
      "source": [
        "### Для полного датасета"
      ],
      "metadata": {
        "id": "i3CNX2Qo2e9G"
      }
    },
    {
      "cell_type": "code",
      "source": [
        "lr_full = LinearRegression().fit(X_train_full, y_train_full)\n",
        "\n",
        "full_score_train = lr_full.score(X_train_full, y_train_full)\n",
        "full_score_test = lr_full.score(X_test_full, y_test_full)\n",
        "\n",
        "base_model['full dataset'] = {'score train': full_score_train, 'score test': full_score_test}"
      ],
      "metadata": {
        "id": "ibPVL7Oy2iZd"
      },
      "execution_count": null,
      "outputs": []
    },
    {
      "cell_type": "markdown",
      "source": [
        "### Для датасета без выбросов"
      ],
      "metadata": {
        "id": "RMvQkRL_2io6"
      }
    },
    {
      "cell_type": "code",
      "source": [
        "lr_out = LinearRegression().fit(X_train_out, y_train_out)\n",
        "\n",
        "out_score_train = lr_out.score(X_train_out, y_train_out)\n",
        "out_score_test = lr_out.score(X_test_out, y_test_out)\n",
        "\n",
        "base_model['no outlier dataset'] = {'score train': out_score_train, 'score test': out_score_test}"
      ],
      "metadata": {
        "id": "Zib9jPQC2lpW"
      },
      "execution_count": null,
      "outputs": []
    },
    {
      "cell_type": "markdown",
      "source": [
        "### Визуализация и вывод"
      ],
      "metadata": {
        "id": "bKYXWmqX769h"
      }
    },
    {
      "cell_type": "code",
      "source": [
        "plt.rcParams[\"figure.figsize\"] = [10, 6]\n",
        "pd.DataFrame(base_model).plot.bar()"
      ],
      "metadata": {
        "colab": {
          "base_uri": "https://localhost:8080/",
          "height": 434
        },
        "id": "1GICZRAL8BQM",
        "outputId": "01f1c5d4-e803-4c0d-845b-434dac3e89ef"
      },
      "execution_count": null,
      "outputs": [
        {
          "output_type": "execute_result",
          "data": {
            "text/plain": [
              "<matplotlib.axes._subplots.AxesSubplot at 0x7f9f8d53de50>"
            ]
          },
          "metadata": {},
          "execution_count": 23
        },
        {
          "output_type": "display_data",
          "data": {
            "image/png": "[encoded data removed]",
            "text/plain": [
              "<Figure size 720x432 with 1 Axes>"
            ]
          },
          "metadata": {
            "needs_background": "light"
          }
        }
      ]
    },
    {
      "cell_type": "markdown",
      "source": [
        "Я получила очень интересные результаты, которые еще раз показывают, насколько важно сохранять максимальное количество признаков.\n",
        "\n",
        "Когда я исключила три столбца с большим количеством пропущенных значений из набора данных, то на тестовой выборке коэффициент детерминации был на несколько миллиардов меньше нуля - очевидно, что все связи между даннми были нарушены. То же самое и касалось, когда я удалила всего два значения, которые я восприняла как выбросы, из столбца LotFrontage.\n",
        "\n",
        "Как только я отменила удаление столбцов и этих двух значений, коэффициент детерминации модели на тестовой выборке подскочил до 0.9 - почти в два раза выше, чем коэффициент детерминации модели, где не была проведена работа с выбросами.\n",
        "\n",
        "Вся эта работа была проведена, чтобы понять, какой набор данных брать - полный или очищенный. В итоге, я решила взять полный датасет, чтобы продемонстрировать как ансамблирование способно улучшить качество моделей на одинаковом наборе данных."
      ],
      "metadata": {
        "id": "DlrzeryD6Na2"
      }
    },
    {
      "cell_type": "markdown",
      "source": [
        "## Bagging, деревья решений"
      ],
      "metadata": {
        "id": "Hc___AhN-L6w"
      }
    },
    {
      "cell_type": "code",
      "source": [
        "from sklearn.tree import DecisionTreeRegressor\n",
        "from sklearn.ensemble import BaggingRegressor"
      ],
      "metadata": {
        "id": "gHv_Cvk3-Rb0"
      },
      "execution_count": null,
      "outputs": []
    },
    {
      "cell_type": "code",
      "source": [
        "models = {}\n",
        "# Перенесём данные по базовой модели без выбросов в словарь для сравнения моделей\n",
        "models['base model full'] = base_model['full dataset']\n",
        "models['base model no outlier'] = base_model['no outlier dataset']"
      ],
      "metadata": {
        "id": "fqT0PhlX_bSR"
      },
      "execution_count": null,
      "outputs": []
    },
    {
      "cell_type": "code",
      "source": [
        "bag_lr = BaggingRegressor(base_estimator=DecisionTreeRegressor(), n_estimators=100, random_state=42).fit(X_train_full, y_train_full)\n",
        "\n",
        "bag_lr_train_score = bag_lr.score(X_train_full, y_train_full)\n",
        "bag_lr_test_score = bag_lr.score(X_test_full, y_test_full)\n",
        "\n",
        "models['bagging decision tree'] = {'score train':bag_lr_train_score, 'score test':bag_lr_test_score}"
      ],
      "metadata": {
        "id": "9lklphZ4_De_"
      },
      "execution_count": null,
      "outputs": []
    },
    {
      "cell_type": "markdown",
      "source": [
        "## Random forest"
      ],
      "metadata": {
        "id": "Dzw048zo-R5d"
      }
    },
    {
      "cell_type": "code",
      "source": [
        "from sklearn.ensemble import RandomForestRegressor"
      ],
      "metadata": {
        "id": "qVAArrox-XAL"
      },
      "execution_count": null,
      "outputs": []
    },
    {
      "cell_type": "code",
      "source": [
        "rf_reg = RandomForestRegressor(max_depth=10, random_state=42).fit(X_train_full, y_train_full)\n",
        "\n",
        "rf_reg_train_score = rf_reg.score(X_train_full, y_train_full)\n",
        "rf_reg_test_score = rf_reg.score(X_test_full, y_test_full)\n",
        "\n",
        "models['Random forest'] = {'score train':rf_reg_train_score, 'score test':rf_reg_test_score}"
      ],
      "metadata": {
        "id": "naiBU8bFBWZO"
      },
      "execution_count": null,
      "outputs": []
    },
    {
      "cell_type": "code",
      "source": [
        "plt.rcParams[\"figure.figsize\"] = [10, 4]\n",
        "# Выявляем наиболее важные признаки и выводим на график. Большое значение имеет признак Overall Qual, остальные почти равны нулю\n",
        "# Собираем значения feature importance в pandas Series\n",
        "feat_imp = pd.Series(rf_reg.feature_importances_)\n",
        "\n",
        "# Собираем шапку столбцов в индекс переменной со значениями\n",
        "feat_imp.index = pd.Series(X_train_full.columns)\n",
        "\n",
        "# Сортируем по важности\n",
        "feat_imp.sort_values(inplace=True, ascending=False)\n",
        "\n",
        "# Топ 10 важности признаков\n",
        "top_10_feat_imp = feat_imp.head(10)\n",
        "\n",
        "# Визуализируем\n",
        "top_10_feat_imp.plot(kind='barh')"
      ],
      "metadata": {
        "colab": {
          "base_uri": "https://localhost:8080/",
          "height": 282
        },
        "id": "eAzS6ylhHbsl",
        "outputId": "e6eea7ad-e3bf-426c-c7e8-9c67df9e3cc3"
      },
      "execution_count": null,
      "outputs": [
        {
          "output_type": "execute_result",
          "data": {
            "text/plain": [
              "<matplotlib.axes._subplots.AxesSubplot at 0x7f9f8d4a4210>"
            ]
          },
          "metadata": {},
          "execution_count": 29
        },
        {
          "output_type": "display_data",
          "data": {
            "image/png": "[encoded data removed]",
            "text/plain": [
              "<Figure size 720x288 with 1 Axes>"
            ]
          },
          "metadata": {
            "needs_background": "light"
          }
        }
      ]
    },
    {
      "cell_type": "markdown",
      "source": [
        "## Stacking"
      ],
      "metadata": {
        "id": "JZ6YZQhx-XK2"
      }
    },
    {
      "cell_type": "code",
      "source": [
        "from sklearn.ensemble import StackingRegressor\n",
        "from sklearn.neighbors import KNeighborsRegressor\n",
        "from sklearn.linear_model import RidgeCV"
      ],
      "metadata": {
        "id": "9Prh45mX-Z24"
      },
      "execution_count": null,
      "outputs": []
    },
    {
      "cell_type": "code",
      "source": [
        "# Создаем stacking и обучаем его на наших данных \n",
        "# estimators: Base estimators which will be stacked together. \n",
        "# Each element of the list is defined as a tuple of string (i.e. name) and an estimator instance.\n",
        "# final_estimator: A regressor which will be used to combine the base estimators.\n",
        "estimators = [\n",
        "        ('LinearRegression', LinearRegression()),\n",
        "        ('KNeighborsRegressor', KNeighborsRegressor()),\n",
        "        ('DecisionTree', DecisionTreeRegressor())\n",
        "    ]\n",
        "\n",
        "stack_regressor = StackingRegressor(estimators=estimators, final_estimator=RidgeCV()).fit(X_train_full, y_train_full)\n",
        "\n",
        "stack_reg_train_score = stack_regressor.score(X_train_full, y_train_full)\n",
        "stack_reg_test_score = stack_regressor.score(X_test_full, y_test_full)\n",
        "\n",
        "models['Stacking: LR, KNN, DTree'] = {'score train':stack_reg_train_score, 'score test':stack_reg_test_score}"
      ],
      "metadata": {
        "id": "kYWFUox2DuaL"
      },
      "execution_count": null,
      "outputs": []
    },
    {
      "cell_type": "markdown",
      "source": [
        "# Выводы"
      ],
      "metadata": {
        "id": "VLczL5b7DTbk"
      }
    },
    {
      "cell_type": "code",
      "source": [
        "plt.rcParams[\"figure.figsize\"] = [15, 6]\n",
        "pd.DataFrame(models).plot.bar()"
      ],
      "metadata": {
        "colab": {
          "base_uri": "https://localhost:8080/",
          "height": 434
        },
        "id": "JWJAFOZ9B23O",
        "outputId": "3ddc02dc-8de7-423f-a635-a5771ca1cf3f"
      },
      "execution_count": null,
      "outputs": [
        {
          "output_type": "execute_result",
          "data": {
            "text/plain": [
              "<matplotlib.axes._subplots.AxesSubplot at 0x7f9f8c3e5890>"
            ]
          },
          "metadata": {},
          "execution_count": 32
        },
        {
          "output_type": "display_data",
          "data": {
            "image/png": "[encoded data removed]",
            "text/plain": [
              "<Figure size 1080x432 with 1 Axes>"
            ]
          },
          "metadata": {
            "needs_background": "light"
          }
        }
      ]
    },
    {
      "cell_type": "markdown",
      "source": [
        "Несмотря на то, что базовая модель без выбросов показала наилучшие результаты среди всех моделей, я не рекомендую её использование.\n",
        "\n",
        "Базовая модель без выбросов не работала на очень многих фиксаторах генератора случайных чисел, показывая миллиардные отрицательные значения на тестовой выборке. Я полагаю, что это означает, что выбросы были убраны некорректно, потому что на полных данных и базовая модель, и все ансамбли работали без нареканий.\n",
        "\n",
        "Из всех представленных моделей, учитывая задачу, я бы выбрала Random Forest или Bagging с использованием ансамбля деревьев решений."
      ],
      "metadata": {
        "id": "jrcjNlEmHasA"
      }
    }
  ]
}
