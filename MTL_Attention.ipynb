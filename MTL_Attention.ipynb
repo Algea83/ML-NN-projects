{
  "cells": [
    {
      "cell_type": "code",
      "execution_count": null,
      "metadata": {
        "id": "MIEGXF8oM9tt"
      },
      "outputs": [],
      "source": [
        "from io import open\n",
        "import os\n",
        "import unicodedata\n",
        "import string\n",
        "import re\n",
        "import random\n",
        "import time\n",
        "import math\n",
        "import numpy as np\n",
        "import pandas as pd\n",
        "\n",
        "import torch\n",
        "import torch.nn as nn\n",
        "from torch import optim\n",
        "import torch.nn.functional as F\n",
        "\n",
        "import matplotlib.pyplot as plt\n",
        "\n",
        "\n",
        "device = torch.device(\"cuda\" if torch.cuda.is_available() else \"cpu\")\n",
        "\n",
        "%matplotlib inline\n",
        "csv_file = 'losses.csv'"
      ]
    },
    {
      "cell_type": "markdown",
      "metadata": {
        "id": "KH0nkGpsbpdf"
      },
      "source": [
        "# Полезные функции"
      ]
    },
    {
      "cell_type": "markdown",
      "metadata": {
        "id": "mNPp6Za_bsnq"
      },
      "source": [
        "## Подготовка датасета"
      ]
    },
    {
      "cell_type": "code",
      "execution_count": null,
      "metadata": {
        "id": "kyNnJyruM9t1"
      },
      "outputs": [],
      "source": [
        "# Токен начала последовательности, Start-of-Sequence\n",
        "SOS_token = 0\n",
        "# Токен окончания последовательности, End-of-Sequence\n",
        "EOS_token = 1\n",
        "\n",
        "\n",
        "class Lang:\n",
        "    \"\"\"\n",
        "    Класс для представления языка, содержащий словарь, состоящий из слов языка и их индексов.\n",
        "\n",
        "    Атрибуты:\n",
        "        name (str): название языка.\n",
        "        word2index (dict): сопоставление слов и их индексов в словаре языка.\n",
        "        word2count (dict): счётчик количества уникальных слов в словаре.\n",
        "        index2word (dict): сопоставление индексов и слов в словаре.\n",
        "        n_words (int): количество уникальных слов в словаре.\n",
        "\n",
        "    Методы:\n",
        "        addSentence(self, sentence):\n",
        "            Добавляет все слова в предложении в словарь.\n",
        "\n",
        "        addWord(self, word):\n",
        "            Добавляет слово в словарь.\n",
        "    \"\"\"\n",
        "\n",
        "    def __init__(self, name):\n",
        "        self.name = name\n",
        "        self.word2index = {}\n",
        "        self.word2count = {}\n",
        "        self.index2word = {0: \"SOS\", 1: \"EOS\"}\n",
        "        self.n_words = 2  # SOS и EOS уже включены в это число как 2 уникальных слова\n",
        "\n",
        "    def addSentence(self, sentence):\n",
        "        for word in sentence.split(' '):\n",
        "            self.addWord(word)\n",
        "\n",
        "    def addWord(self, word):\n",
        "        # Если слово ещё не в словаре\n",
        "        if word not in self.word2index:\n",
        "            # Слово добавляется в словарь как ключ и как значение ему присваивается новый индекс = кол-ву уникальных слов в словаре.\n",
        "            self.word2index[word] = self.n_words\n",
        "            # В словарь-счётчик, слово опять же добавляется как ключ, и, так как слово встречается первый раз, то ему присваивается счётное значение = 1.\n",
        "            self.word2count[word] = 1\n",
        "            # В словарь-сопоставление индекса и слова, индекс, присвоенный ранее, используется как ключ, а само слово становится значением.\n",
        "            self.index2word[self.n_words] = word\n",
        "            # Счётчик кол-ва уникальных слов в словаре увеличивается на 1.\n",
        "            self.n_words += 1\n",
        "        # Если слово уже присутствует в словаре\n",
        "        else:\n",
        "            # У него увеличивается значение в словаре-счётчике.\n",
        "            self.word2count[word] += 1"
      ]
    },
    {
      "cell_type": "code",
      "execution_count": null,
      "metadata": {
        "id": "FXKs8j4bM9t6"
      },
      "outputs": [],
      "source": [
        "def unicodeToAscii(s):\n",
        "    \"\"\"\n",
        "    Функция для преобразования строки Unicode в обычные символы ASCII\n",
        "\n",
        "    Параметры:\n",
        "        s (str): строка Unicode.\n",
        "\n",
        "    Возвращает:\n",
        "        str: входящая строка, нормализованная в символы ASCII.\n",
        "    \"\"\"\n",
        "    # Unicode строка разбивается на символы, согласно правилам NFD (Normalization Form D), все не ASCII части убираются.\n",
        "    s = ''.join(c for c in unicodedata.normalize('NFD', s) if unicodedata.category(c) != 'Mn')\n",
        "    return s\n",
        "\n",
        "\n",
        "def normalizeString(s):\n",
        "    \"\"\"\n",
        "    Функция для нормализации строк для задач НЛП\n",
        "\n",
        "    Параметры:\n",
        "        s (str): строка текста.\n",
        "\n",
        "    Возвращает:\n",
        "        str: входящая строка, нормализованная для задач НЛП.\n",
        "    \"\"\"\n",
        "    # Превращаю все символы в строке в символы, закодированные в ASCII, приводит их к нижнему регистру и убирает пробелы в начале и конце строки.\n",
        "    s = unicodeToAscii(s.lower().strip())\n",
        "    # Добавляю пробелы вокруг знаков пунктуации \".!?\" чтобы отделить их от остального текста.\n",
        "    s = re.sub(r\"([.!?])\", r\" \\1\", s)\n",
        "    # Заменяю все не-алфавитные символы (исключая группу .!?) и заменяю их пробелами.\n",
        "    s = re.sub(r\"[^a-zA-Zа-яА-Я.!?]+\", r\" \", s)\n",
        "    return s\n"
      ]
    },
    {
      "cell_type": "code",
      "execution_count": null,
      "metadata": {
        "id": "qFSChuce5Tov"
      },
      "outputs": [],
      "source": [
        "def readLangs(path, lang1, lang2, reverse=False):\n",
        "    \"\"\"\n",
        "    Функция для обработки пар предложений из текстового файла и создания словаря-объекта класса Lang для каждого языка.\n",
        "\n",
        "    Параметры:\n",
        "        path (str): путь, по которому располагается текстовый файл, содержащий пары предложений, разделенных табуляцией, на 2х разных языках.\n",
        "        lang1 (str): название первого языка.\n",
        "        lang2 (str): название второго языка.\n",
        "        reverse (bool, optional): флаг, если значение True, то меняет языки местами, и, следовательно, направление перевода.\n",
        "\n",
        "    Возвращает:\n",
        "        input_lang (Lang object): объект класса Lang для первого языка - языка, с которого будет осуществляться перевод.\n",
        "        output_lang (Lang object): объект класса Lang для второго языка - языка, на который будет осуществляться перевод.\n",
        "        pairs (list): список пар предложений, содержащий кортежи, где первое значение кортежа - предложение первого языка, второе значение кортежа - предложение второго языка.\n",
        "\n",
        "    \"\"\"\n",
        "    print(\"Обрабатываю строки...\")\n",
        "\n",
        "    # Читаю .txt файл построчно, и каждую строку складываю в список lines.\n",
        "    with open(path, encoding='utf-8') as f:\n",
        "        lines = f.readlines()\n",
        "\n",
        "    # Из каждой строки выделяю первое и второе предложение, нормализую их и складываю как кортеж в список pairs\n",
        "    pairs = [(normalizeString(s.strip().split('\\t')[0]), normalizeString(s.strip().split('\\t')[1])) for s in lines]\n",
        "\n",
        "    # Если флаг reverse = True, меняю местами языки (направление перевода)\n",
        "    if reverse:\n",
        "        input_lang = Lang(lang2)\n",
        "        output_lang = Lang(lang1)\n",
        "        pairs = [(t, s) for s, t in pairs]  # в списке кортежей нормализованные предложения также меняются местами\n",
        "    else:\n",
        "        input_lang = Lang(lang1)\n",
        "        output_lang = Lang(lang2)\n",
        "\n",
        "    # В списке pairs, беру каждый кортеж, и заполняю словарь input_lang словами из первого элемента кортежа, а словарь output_lang - словами из второго элемента кортежа\n",
        "    for pair in pairs:\n",
        "        input_lang.addSentence(pair[0])\n",
        "        output_lang.addSentence(pair[1])\n",
        "\n",
        "    # Возвращаю словари и и список с парами предложений\n",
        "    return input_lang, output_lang, pairs"
      ]
    },
    {
      "cell_type": "code",
      "execution_count": null,
      "metadata": {
        "id": "eBOwgEBdM9uB"
      },
      "outputs": [],
      "source": [
        "def filterPair(p, max_length, eng_prefixes):\n",
        "    \"\"\"\n",
        "    Функция, содержащая условия-фильтр для обрезки набора данных.\n",
        "\n",
        "    Параметры:\n",
        "        p (tuple): кортеж, содержащий 2 строки.\n",
        "        max_length (int): максимальная длина предложения в словах.\n",
        "        eng_prefixes (tuple): кортеж префиксов, с которых должна начинаться первая строка в кортеже p\n",
        "\n",
        "    Возвращает:\n",
        "        bool: True, если все условия фильтра соблюдены, в противном случае False\n",
        "    \"\"\"\n",
        "    return len(p[0].split(' ')) < max_length and len(p[1].split(' ')) < max_length and p[0].startswith(eng_prefixes)\n",
        "\n",
        "\n",
        "def filterPairs(pairs, max_length, eng_prefixes):\n",
        "    \"\"\"\n",
        "    Функция для фильтрации пар предложений с использованием функции-фильтра filterPair().\n",
        "\n",
        "    Параметры:\n",
        "        pairs (list): список, содержащий кортежи пар предложений.\n",
        "        max_length (int): максимальная длина предложения.\n",
        "        eng_prefixes (tuple): кортеж префиксов, с которых должна начинаться первая строка в кортеже из списка pairs.\n",
        "\n",
        "    Возвращает:\n",
        "        list: список, содержащий только те кортежи пар, предложения в которых соответствуют условиям из filterPair().\n",
        "    \"\"\"\n",
        "    return [pair for pair in pairs if filterPair(pair, max_length, eng_prefixes)]\n"
      ]
    },
    {
      "cell_type": "code",
      "execution_count": null,
      "metadata": {
        "id": "6dZOGjd5M9uE"
      },
      "outputs": [],
      "source": [
        "def prepareData(path, lang1, lang2, filtered=True, reverse=False, max_length=10, eng_prefixes=()):\n",
        "    \"\"\"\n",
        "    Функция для считывания пар предложений из .txt файла и создания словарей-объектов класса Lang для каждого языка.\n",
        "    Функция также фильтрует пары предложений, используя фильтры из filterPairs(), если filtered=True.\n",
        "\n",
        "    Параметры:\n",
        "        path (str): путь, по которому располагается текстовый файл, содержащий пары предложений, разделенных табуляцией, на 2х разных языках.\n",
        "        lang1 (str): название первого языка.\n",
        "        lang2 (str): название второго языка.\n",
        "        filtered (bool, optional): флаг, если значение True, то происходит фильтрация датасета с использованием filterPairs().\n",
        "        reverse (bool, optional): флаг, если значение True, то меняет языки местами, и, следовательно, направление перевода.\n",
        "        max_length (int, optional): максимальная длина предложения в словах.\n",
        "        eng_prefixes (tuple, optional): кортеж префиксов, с которых должна начинаться первая строка в кортеже из списка кортежей пар предложений.\n",
        "    \n",
        "    Возвращает:\n",
        "        input_lang (Lang object): объект класса Lang для первого языка - языка, с которого будет осуществляться перевод.\n",
        "        output_lang (Lang object): объект класса Lang для второго языка - языка, на который будет осуществляться перевод.\n",
        "        all_pairs (list): список кортежей, содержащий все пары предложений из текстового файла.\n",
        "        pairs (list): список кортежей, содержащий только отфильтрованные пары предложений.\n",
        "    \"\"\"\n",
        "    \n",
        "    # Читаю строки из текстового файла, создаю словари-объекты класса Lang для каждого из 2х языков, создаю список кортежей всех пар предложений.\n",
        "    input_lang, output_lang, all_pairs = readLangs(path, lang1, lang2, reverse=reverse)\n",
        "    print(f\"Общее число пар предложений: {len(all_pairs)}\")\n",
        "    \n",
        "    # Если необходимо, фильтрую датасет.\n",
        "    pairs = all_pairs\n",
        "    if filtered:\n",
        "        pairs = filterPairs(all_pairs, max_length, eng_prefixes)\n",
        "        print(f\"Датасет обрезан до {len(pairs)} пар предложений.\")\n",
        "    \n",
        "    # Вывожу количество уникальных слов в каждом словаре.\n",
        "    print(\"Количество слов в словарях:\")\n",
        "    print(input_lang.name, \"словарь:\", input_lang.n_words)\n",
        "    print(output_lang.name, \"словарь:\", output_lang.n_words)\n",
        "    \n",
        "    # Возвращаю словари, список всех пар и список отфильтрованных пар.\n",
        "    return input_lang, output_lang, all_pairs, pairs"
      ]
    },
    {
      "cell_type": "code",
      "execution_count": null,
      "metadata": {
        "id": "z6gGPtXFM9uQ"
      },
      "outputs": [],
      "source": [
        "def indexesFromSentence(lang, sentence):\n",
        "    \"\"\"\n",
        "    Функция возвращает список индексов, соответствующих словам в предложении.\n",
        "\n",
        "    Параметры:\n",
        "        lang (Lang object): словарь-объект клааса Lang для текущего предложения.\n",
        "        sentence (str): строка, содержащая предложение.\n",
        "\n",
        "    Возвращает:\n",
        "        list: список целых чисел - индексов, соответствующих словам в предложении.\n",
        "    \"\"\"\n",
        "    return [lang.word2index[word] for word in sentence.split(' ')]\n",
        "\n",
        "\n",
        "def tensorFromSentence(lang, sentence):\n",
        "    \"\"\"\n",
        "    Функция возвращает тензор индексов, соответствующих словам в предложении, заканчивающийся индексом токена EOS.\n",
        "\n",
        "    Параметры:\n",
        "        lang (Lang object): словарь-объект клааса Lang для текущего предложения.\n",
        "        sentence (str): строка, содержащая предложение.\n",
        "\n",
        "    Возвращает:\n",
        "        Tensor: PyTorch тензор, содержащий индексы слов в предложении и заканчивающийся индексом токена EOS.\n",
        "    \"\"\"\n",
        "    indexes = indexesFromSentence(lang, sentence)\n",
        "    indexes.append(EOS_token)  # Добавляю токен EOS как финальный индекс тензора.\n",
        "    return torch.tensor(indexes, dtype=torch.long, device=device).view(-1, 1)    # .view(-1, 1) преобразует форму тензора в (seq_len, 1)\n",
        "\n",
        "\n",
        "def tensorsFromPair(pair, input_lang, output_lang):\n",
        "    \"\"\"\n",
        "    Функция возвращает тензор X (фичи, предложения на языке, с которого делать перевод) и тензор Y (таргеты, предложения на языке, на который делать перевод),\n",
        "    соответствующие предложениям в кортеже пары предложений из списка кортежей.\n",
        "\n",
        "    Параметры:\n",
        "        pair (tuple): кортеж, содержащий 2 строки.\n",
        "        input_lang (Lang object):  объект класса Lang для языка, с которого будет осуществляться перевод (input, X).\n",
        "        output_lang (Lang object): объект класса Lang для языка, на который будет осуществляться перевод (output, Y).\n",
        "\n",
        "    Возвращает:\n",
        "        tuple: кортеж, содержащий 2 PyTorch тензора, один для входящего предложения (input, X), второй для исходящего предложения (output, Y).\n",
        "    \"\"\"\n",
        "    input_tensor = tensorFromSentence(input_lang, pair[0])\n",
        "    target_tensor = tensorFromSentence(output_lang, pair[1])\n",
        "    return (input_tensor, target_tensor)"
      ]
    },
    {
      "cell_type": "markdown",
      "metadata": {
        "id": "eiKnfPjQcBlG"
      },
      "source": [
        "## Обучение"
      ]
    },
    {
      "cell_type": "code",
      "execution_count": null,
      "metadata": {
        "id": "8Fn8VDv8M9uS"
      },
      "outputs": [],
      "source": [
        "teacher_forcing_ratio = 0.5\n",
        "\n",
        "\n",
        "def train(input_tensor, target_tensor, encoder, decoder, encoder_optimizer, decoder_optimizer, criterion, max_length=25):\n",
        "    \"\"\"\n",
        "    Функция, обучающая кодировщик и декодировщик модель на 1 паре предложений.\n",
        "\n",
        "    Параметры:\n",
        "        input_tensor (torch.Tensor): тензор предложения, с которого осуществляется перевод, формы (seq_len, batch_size).\n",
        "        target_tensor (torch.Tensor): тензор предложения, на которое осуществляется перевод, формы (seq_len, batch_size).\n",
        "        encoder (torch.nn.Module): модель-кодировщик.\n",
        "        decoder (torch.nn.Module): модель-декодировщик.\n",
        "        encoder_optimizer (torch.optim.Optimizer): оптимизатор для кодировщика.\n",
        "        decoder_optimizer (torch.optim.Optimizer): оптимизатор для декодировщика.\n",
        "        criterion (torch.nn.Module): функция потерь.\n",
        "        max_length (int, optional): максимальная длина предложения в словах (25 по умолчанию).\n",
        "\n",
        "    Возвращает:\n",
        "        float: среднее значение функции потерь по каждому семплу.\n",
        "    \"\"\"\n",
        "    encoder_hidden = encoder.initHidden()\n",
        "\n",
        "    encoder_optimizer.zero_grad()\n",
        "    decoder_optimizer.zero_grad()\n",
        "\n",
        "    input_length = input_tensor.size(0)\n",
        "    target_length = target_tensor.size(0)\n",
        "\n",
        "    encoder_outputs = torch.zeros(max_length, encoder.hidden_size, device=device)\n",
        "\n",
        "    loss = 0\n",
        "\n",
        "    for ei in range(input_length):\n",
        "        encoder_output, encoder_hidden = encoder(input_tensor[ei], encoder_hidden)\n",
        "        encoder_outputs[ei] = encoder_output[0, 0]\n",
        "\n",
        "    decoder_input = torch.tensor([[SOS_token]], device=device)\n",
        "\n",
        "    decoder_hidden = encoder_hidden\n",
        "\n",
        "    use_teacher_forcing = True if random.random() < teacher_forcing_ratio else False\n",
        "\n",
        "    if use_teacher_forcing:\n",
        "        for di in range(target_length):\n",
        "            decoder_output, decoder_hidden, decoder_attention = decoder(decoder_input, decoder_hidden, encoder_outputs)\n",
        "            loss += criterion(decoder_output, target_tensor[di])\n",
        "            decoder_input = target_tensor[di]\n",
        "\n",
        "    else:\n",
        "        for di in range(target_length):\n",
        "            decoder_output, decoder_hidden, decoder_attention = decoder(decoder_input, decoder_hidden, encoder_outputs)\n",
        "            topv, topi = decoder_output.topk(1)\n",
        "            decoder_input = topi.squeeze().detach()\n",
        "\n",
        "            loss += criterion(decoder_output, target_tensor[di])\n",
        "            if decoder_input.item() == EOS_token:\n",
        "                break\n",
        "\n",
        "    loss.backward()\n",
        "\n",
        "    encoder_optimizer.step()\n",
        "    decoder_optimizer.step()\n",
        "\n",
        "    return loss.item() / target_length"
      ]
    },
    {
      "cell_type": "code",
      "execution_count": null,
      "metadata": {
        "id": "C_z_k5IiM9uX"
      },
      "outputs": [],
      "source": [
        "def trainIters(encoder, decoder, pairs, input_lang, output_lang, n_iters, print_every=1000, plot_every=1000, learning_rate=0.01, max_length=25):\n",
        "    \"\"\"\n",
        "    Функция обучает модель-переводчик (схема кодировщик-декодировщик) указанное число итераций, используя произвольным образом выбранную пару предложений.\n",
        "\n",
        "    Параметры:\n",
        "        encoder (nn.Module): кодировщик модели.\n",
        "        decoder (nn.Module): декодировщик модели.\n",
        "        pairs (list): список, содержащий пары предложений.\n",
        "        input_lang (Lang): словарь класса Lang для языка, с которого осуществляется перевод.\n",
        "        output_lang (Lang): словарь класса Lang для языка, на который осуществляется перевод.\n",
        "        n_iters (int): количество предложений, на которых будет обучаться модель.\n",
        "        print_every (int): количество итераций для вывода прогресса обучения. По умолчанию 1000.\n",
        "        plot_every (int): количество итераций для сохранения текущего значения функции потерь. По умолчанию 1000.\n",
        "        learning_rate (float): скорость обучения для оптимизаторов, по умолчанию 0.01.\n",
        "        max_length (int): максимальная длина, используемая для паддинга предложений. По умолчанию 25.\n",
        "\n",
        "    Возвращает:\n",
        "        list: список, содержащий значения функции потерь каждые `plot_every` итераций.\n",
        "    \"\"\"\n",
        "    start = time.time()\n",
        "    plot_losses = []\n",
        "    print_loss_total = 0 \n",
        "    plot_loss_total = 0 \n",
        "\n",
        "    encoder_optimizer = optim.SGD(encoder.parameters(), lr=learning_rate)\n",
        "    decoder_optimizer = optim.SGD(decoder.parameters(), lr=learning_rate)\n",
        "    training_pairs = [tensorsFromPair(random.choice(pairs), input_lang, output_lang) for i in range(n_iters)]\n",
        "    criterion = nn.NLLLoss()\n",
        "\n",
        "    for iter in range(1, n_iters + 1):\n",
        "        training_pair = training_pairs[iter - 1]\n",
        "        input_tensor = training_pair[0]\n",
        "        target_tensor = training_pair[1]\n",
        "\n",
        "        loss = train(input_tensor, target_tensor, encoder, decoder, encoder_optimizer, decoder_optimizer, criterion, max_length)\n",
        "        print_loss_total += loss\n",
        "        plot_loss_total += loss\n",
        "\n",
        "        if iter % print_every == 0:\n",
        "            print_loss_avg = print_loss_total / print_every\n",
        "            print_loss_total = 0\n",
        "            print(f'Time: {timeSince(start, iter/n_iters)} / Step: {iter} / Progress: {iter/n_iters:.0%} / Loss: {print_loss_avg:.4f}')\n",
        "\n",
        "        if iter % plot_every == 0:\n",
        "            plot_loss_avg = plot_loss_total / plot_every\n",
        "            plot_losses.append(round(plot_loss_avg, 4))\n",
        "            plot_loss_total = 0\n",
        "            \n",
        "    return plot_losses"
      ]
    },
    {
      "cell_type": "markdown",
      "metadata": {
        "id": "oVCwa89BM1ls"
      },
      "source": [
        "## Оценка качества работы модели"
      ]
    },
    {
      "cell_type": "code",
      "execution_count": null,
      "metadata": {
        "id": "3Bxf45h6M9ud"
      },
      "outputs": [],
      "source": [
        "def evaluate(encoder, decoder, sentence, max_length=25):\n",
        "    \"\"\" \n",
        "    Функция для оценки качества перевода. Принимает предложение, которое надо перевести, и модель, переводит его и возвращает перевод.\n",
        "\n",
        "    Параметры:\n",
        "        encoder (EncoderRNN): модель-кодировщик.\n",
        "        decoder (AttnDecoderRNN): модель-декодировщик.\n",
        "        sentence (str): предложение для перевода.\n",
        "        max_length (int): максимальная длина предложения-перевода (по умолчанию 25).\n",
        "\n",
        "    Возвращает:\n",
        "        tuple: кортеж, содержащий:\n",
        "            decoded_words (List[str]): список переведённых слов.\n",
        "            decoder_attentions (torch.Tensor): тензор, содержащий веса внимания для каждого входного и выходного токена.\n",
        "    \"\"\"\n",
        "    with torch.no_grad():\n",
        "        input_tensor = tensorFromSentence(input_lang, sentence)\n",
        "        input_length = input_tensor.size()[0]\n",
        "        encoder_hidden = encoder.initHidden()\n",
        "\n",
        "        encoder_outputs = torch.zeros(max_length, encoder.hidden_size, device=device)\n",
        "\n",
        "        for ei in range(input_length):\n",
        "            encoder_output, encoder_hidden = encoder(input_tensor[ei], encoder_hidden)\n",
        "            encoder_outputs[ei] += encoder_output[0, 0]\n",
        "\n",
        "        decoder_input = torch.tensor([[SOS_token]], device=device)\n",
        "\n",
        "        decoder_hidden = encoder_hidden\n",
        "\n",
        "        decoded_words = []\n",
        "        decoder_attentions = torch.zeros(max_length, max_length)\n",
        "\n",
        "        for di in range(max_length):\n",
        "            decoder_output, decoder_hidden, decoder_attention = decoder(decoder_input, decoder_hidden, encoder_outputs)\n",
        "            decoder_attentions[di] = decoder_attention.data\n",
        "            topv, topi = decoder_output.data.topk(1)\n",
        "            if topi.item() == EOS_token:\n",
        "                decoded_words.append('<EOS>')\n",
        "                break\n",
        "            else:\n",
        "                decoded_words.append(output_lang.index2word[topi.item()])\n",
        "\n",
        "            decoder_input = topi.squeeze().detach()\n",
        "\n",
        "        return decoded_words, decoder_attentions[:di + 1]"
      ]
    },
    {
      "cell_type": "code",
      "execution_count": null,
      "metadata": {
        "id": "1qUmQIGwM9uf"
      },
      "outputs": [],
      "source": [
        "def evaluateRandomly(encoder, decoder, pairs, n=10):\n",
        "    for i in range(n):\n",
        "        pair = random.choice(pairs)\n",
        "        print('>', pair[0])\n",
        "        print('=', pair[1])\n",
        "        output_words, attentions = evaluate(encoder, decoder, pair[0])\n",
        "        output_sentence = ' '.join(output_words)\n",
        "        print('<', output_sentence)\n",
        "        print('')"
      ]
    },
    {
      "cell_type": "markdown",
      "metadata": {
        "id": "4f_O1fJ5cO6e"
      },
      "source": [
        "## Вспомогательные функции"
      ]
    },
    {
      "cell_type": "code",
      "execution_count": null,
      "metadata": {
        "id": "EKsdwPmSM9uU"
      },
      "outputs": [],
      "source": [
        "def asMinutes(s):\n",
        "    \"\"\"\n",
        "    Функция, превращающая секунды в стркоу формата `m s`, где m - кол-во минут, s - кол-во секунд.\n",
        "\n",
        "    Параметры:\n",
        "        s (float): продолжительность в секундах.\n",
        "\n",
        "    Возвращает:\n",
        "        str: строка, содержащая продолжительность в минутах и секундах.\n",
        "    \"\"\"\n",
        "    m = math.floor(s / 60)\n",
        "    s -= m * 60\n",
        "    return f'{m}m {int(s)}s'\n",
        "\n",
        "\n",
        "def timeSince(since, percent):\n",
        "    \"\"\"\n",
        "    Функция, рассчитывающая время, прошедшее с начала обучения, и время, приблизительно оставшееся до окончания обучения.\n",
        "\n",
        "    Параметры:\n",
        "        since (float): Unix-время в секундах, представляющее время начала.\n",
        "        percent (float): доля между 0 и 1, представляющая прогресс обучения.\n",
        "    \n",
        "    Возвращает:\n",
        "        str: строка, содержащая время, прошедшее с начала обучения, и время, приблизительно оставшееся до окончания обучения.\n",
        "    \"\"\"\n",
        "    now = time.time()\n",
        "    elapsed_time = now - since\n",
        "    total_duration = elapsed_time / percent\n",
        "    remaining_time = total_duration - elapsed_time\n",
        "    return f'elapsed {asMinutes(elapsed_time)}, remained {asMinutes(remaining_time)}'"
      ]
    },
    {
      "cell_type": "code",
      "execution_count": null,
      "metadata": {
        "id": "XzZFxPfwvJjA"
      },
      "outputs": [],
      "source": [
        "def add_loss_columns(csv_file, model_name, new_losses, create_csv=False):\n",
        "    \"\"\"\n",
        "    Функция, добавляющая новый столбец, содержащий значения функции потерь, к уже существующему .csv файлу, или создающая новый .csv файл.\n",
        "\n",
        "    Параметры:\n",
        "      csv_file (str): имя .csv файла для хранения результатов обучения моделей.\n",
        "      model_name (str): имя модели, чьи результаты обучения надо добавить в .csv файл.\n",
        "      new_losses (list): список, содержащий значения функции потерь текущей модели.\n",
        "      create_csv (bool): флаг, обозначающий необходимость создания нового .csv файла.\n",
        "\n",
        "    Возвращает:\n",
        "      None: функция не возвращает ничего, но экспортирует .csv файл, содержащий результаты обучения.\n",
        "    \"\"\"\n",
        "\n",
        "    if not os.path.exists(csv_file):\n",
        "        if create_csv:\n",
        "            df = pd.DataFrame({model_name: new_losses})\n",
        "            df.to_csv(csv_file, index=False)\n",
        "\n",
        "        else:\n",
        "            raise FileNotFoundError(f\"'{csv_file}' file not found.\")\n",
        "    else:\n",
        "        df = pd.read_csv(csv_file)\n",
        "\n",
        "        if model_name not in df.columns:\n",
        "            df[model_name] = new_losses\n",
        "        else:\n",
        "            df.loc[:, model_name] = new_losses\n",
        "\n",
        "        df.to_csv(csv_file, index=False)"
      ]
    },
    {
      "cell_type": "code",
      "execution_count": null,
      "metadata": {
        "id": "_ov9LSBJy2nt"
      },
      "outputs": [],
      "source": [
        "def showPlot(df, last_column_only=False, ax=None):\n",
        "    \"\"\"\n",
        "    Функция строит график значений функции потерь, как источник данных используя pandas датафрейм.\n",
        "\n",
        "    Параметры:\n",
        "        df (pandas DataFrame): датафрейм, содержащий значения потерь.\n",
        "        last_column_only (bool): флаг для построения графиков. Если True - строится график только последнего столбца, по умолчанию False.\n",
        "        ax (Matplotlib Axes, optional): объект оси, на которой надо нарисовать график. Если не указан, будет создана новая фигура.\n",
        "\n",
        "    Возвращает:\n",
        "        None: функция ничего не возвращает.\n",
        "    \"\"\"\n",
        "    if ax is None:\n",
        "        fig, ax = plt.subplots()\n",
        "    plt.xlabel(\"Steps\")\n",
        "    plt.ylabel(\"Loss\")\n",
        "    plt.title(\"Training Loss Graph\")\n",
        "    \n",
        "    if last_column_only:\n",
        "        ax.plot(df.iloc[:, -1], label=df.columns[-1])\n",
        "    else:\n",
        "        for column in df.columns:\n",
        "            ax.plot(df[column], label=column)\n",
        "\n",
        "    ax.legend()"
      ]
    },
    {
      "cell_type": "markdown",
      "metadata": {
        "id": "TN-eJ82DfKpV"
      },
      "source": [
        "# Загрузка и подготовка данных"
      ]
    },
    {
      "cell_type": "code",
      "execution_count": null,
      "metadata": {
        "colab": {
          "base_uri": "https://localhost:8080/"
        },
        "id": "twIcAJnyRkW-",
        "outputId": "e7cefc8c-7634-4a06-ad3e-d072a13daf79"
      },
      "outputs": [
        {
          "output_type": "stream",
          "name": "stdout",
          "text": [
            "Archive:  rus-eng.zip\n",
            "  inflating: rus.txt                 \n",
            "  inflating: _about.txt              \n",
            "We need to uphold laws against discrimination — in hiring, and in housing, and in education, and in the criminal justice system. That is what our Constitution and our highest ideals require.\tНам нужно отстаивать законы против дискриминации при найме на работу, в жилищной сфере, в сфере образования и правоохранительной системе. Этого требуют наша Конституция и высшие идеалы.\tCC-BY 2.0 (France) Attribution: tatoeba.org #5762728 (BHO) & #6390439 (odexed)\n",
            "I've heard that you should never date anyone who is less than half your age plus seven. Tom is now 30 years old and Mary is 17. How many years will Tom need to wait until he can start dating Mary?\tЯ слышал, что никогда не следует встречаться с кем-то вдвое младше вас плюс семь лет. Тому 30 лет, a Мэри 17. Сколько лет Тому нужно ждать до тех пор, пока он сможет начать встречаться с Мэри?\tCC-BY 2.0 (France) Attribution: tatoeba.org #10068197 (CK) & #10644473 (notenoughsun)\n",
            "I do have one final ask of you as your president, the same thing I asked when you took a chance on me eight years ago. I'm asking you to believe, not in my ability to bring about change but in yours.\tУ меня же, как у вашего президента, есть к вам последняя просьба. Та же самая, что и восемь лет назад, когда вы оказали мне своё доверие. Я прошу вас верить, но не в мои способности добиться перемен, а в ваши.\tCC-BY 2.0 (France) Attribution: tatoeba.org #5762723 (BHO) & #6390123 (odexed)\n",
            "In today's world, we have to equip all our kids with an education that prepares them for success, regardless of what they look like, or how much their parents make, or the zip code that they live in.\tВ современном мире перед нами стоит задача дать всем нашим детям такое образование, которое настроит их на успех вне зависимости от того, как они выглядят, сколько зарабатывают их родители или какой у них почтовый индекс.\tCC-BY 2.0 (France) Attribution: tatoeba.org #3924477 (BHO) & #5968115 (odexed)\n",
            "Death is something that we're often discouraged to talk about or even think about, but I've realized that preparing for death is one of the most empowering things you can do. Thinking about death clarifies your life.\tСмерть - это зачастую то, разговоры или даже мысли о чем приводят в уныние, но я осознал, что готовность умереть наделяет силой, как ничто другое. Мысль о смерти вносит ясность в твою жизнь.\tCC-BY 2.0 (France) Attribution: tatoeba.org #1969892 (davearms) & #3231553 (kukla)\n",
            "At a moment when our economy is growing, our businesses are creating jobs at the fastest pace since the 1990s, and wages are starting to rise again, we have to make some choices about the kind of country we want to be.\tВ тот момент, когда наша экономика растёт, наши предприятия создают рабочие места наибольшими темпами, начиная с 90-х годов, а зарплаты снова начинают расти, мы должны принять ряд решений относительно того, какой страной мы хотим быть.\tCC-BY 2.0 (France) Attribution: tatoeba.org #3924474 (BHO) & #4509418 (odexed)\n",
            "When I was younger, I hated going to weddings. My grandmothers and aunts would huddle around me, poke me in the side, and giggle \"You're next! You're next!\" They only stopped this nonsense when I began to do the same thing at funerals.\tКогда я была помоложе, я ненавидела ходить на свадьбы. Мои бабушки и тётки толпились вокруг, тыкали меня в бок и говорили, посмеиваясь: «Ты следующая! Ты следующая!». Они перестали нести этот вздор только тогда, когда я начала делать то же самое на похоронах.\tCC-BY 2.0 (France) Attribution: tatoeba.org #2776770 (AlanF_US) & #4311406 (odexed)\n",
            "Since there are usually multiple websites on any given topic, I usually just click the back button when I arrive on any webpage that has pop-up advertising. I just go to the next page found by Google and hope for something less irritating.\tПоскольку сайтов, посвящённых какой-либо теме, как правило, несколько, я обычно просто нажимаю на кнопку \"назад\", если попадаю на страницу со всплывающей рекламой. Я просто перехожу на следующую страницу, найденную гуглом, и надеюсь найти что-то менее раздражающее.\tCC-BY 2.0 (France) Attribution: tatoeba.org #954270 (CK) & #6383010 (odexed)\n",
            "If someone who doesn't know your background says that you sound like a native speaker, it means they probably noticed something about your speaking that made them realize you weren't a native speaker. In other words, you don't really sound like a native speaker.\tЕсли кто-то незнакомый говорит, что вы говорите как носитель языка, это значит, что он, вероятно, заметил что-то в вашей речи, что дало ему понять, что вы не носитель. Другими словами, вы не говорите как носитель.\tCC-BY 2.0 (France) Attribution: tatoeba.org #953936 (CK) & #10644468 (notenoughsun)\n",
            "Doubtless there exists in this world precisely the right woman for any given man to marry and vice versa; but when you consider that a human being has the opportunity of being acquainted with only a few hundred people, and out of the few hundred that there are but a dozen or less whom he knows intimately, and out of the dozen, one or two friends at most, it will easily be seen, when we remember the number of millions who inhabit this world, that probably, since the earth was created, the right man has never yet met the right woman.\tНесомненно, для каждого мужчины в этом мире где-то есть подходящая женщина, которая может стать ему женой, обратное верно и для женщин. Но если учесть, что у человека может быть максимум несколько сотен знакомых, из которых лишь дюжина, а то и меньше, тех, кого он знает близко, а из этой дюжины у него один или от силы два друга, то можно легко увидеть, что с учётом миллионов живущих на Земле людей, ни один подходящий мужчина, возможно, ещё не встретил подходящую женщину.\tCC-BY 2.0 (France) Attribution: tatoeba.org #7697649 (RM) & #7730831 (odexed)\n"
          ]
        }
      ],
      "source": [
        "!unzip rus-eng.zip\n",
        "!tail /content/rus.txt\n",
        "new_path = r\"/content/rus.txt\""
      ]
    },
    {
      "cell_type": "code",
      "execution_count": null,
      "metadata": {
        "colab": {
          "base_uri": "https://localhost:8080/"
        },
        "id": "t3msHBh_dcg5",
        "outputId": "6782b799-b1bd-4c7d-8ceb-b0168614af83"
      },
      "outputs": [
        {
          "output_type": "stream",
          "name": "stdout",
          "text": [
            "Обрабатываю строки...\n",
            "Общее число пар предложений: 467119\n",
            "Датасет обрезан до 32561 пар предложений.\n",
            "Количество слов в словарях:\n",
            "eng словарь: 16854\n",
            "rus словарь: 57407\n",
            "('we have not been notified about their change of address .', 'нам не сообщили что у них изменился адрес .')\n",
            "('she is about forty .', 'еи около сорока лет .')\n"
          ]
        }
      ],
      "source": [
        "MAX_LENGTH = 25\n",
        "\n",
        "eng_prefixes = (\n",
        "    \"i am \", \"i m \",\n",
        "    \"he is\", \"he s \",\n",
        "    \"she is\", \"she s\",\n",
        "    \"you are\", \"you re \",\n",
        "    \"we are\", \"we re \",\n",
        "    \"they are\", \"they re \"\n",
        ")\n",
        "\n",
        "input_lang, output_lang, all_pairs, filter_pairs = prepareData(new_path, 'eng', 'rus', filtered=True, reverse=False, max_length=MAX_LENGTH, eng_prefixes=eng_prefixes)\n",
        "print(random.choice(all_pairs))\n",
        "print(random.choice(filter_pairs))"
      ]
    },
    {
      "cell_type": "code",
      "execution_count": null,
      "metadata": {
        "colab": {
          "base_uri": "https://localhost:8080/"
        },
        "id": "1djN57kGDmyr",
        "outputId": "93d18eaa-f44a-43e9-c764-9d4c297104ea"
      },
      "outputs": [
        {
          "output_type": "stream",
          "name": "stdout",
          "text": [
            "len(all_pairs): 467119\n",
            "len(filter_pairs): 32561\n"
          ]
        }
      ],
      "source": [
        "print(f\"len(all_pairs): {len(all_pairs)}\")\n",
        "print(f\"len(filter_pairs): {len(filter_pairs)}\")"
      ]
    },
    {
      "cell_type": "markdown",
      "metadata": {
        "id": "nzqWxikkclok"
      },
      "source": [
        "# Seq2seq with attention"
      ]
    },
    {
      "cell_type": "markdown",
      "metadata": {
        "id": "YixBqQGYc2n_"
      },
      "source": [
        "## Скалярное произведение"
      ]
    },
    {
      "cell_type": "markdown",
      "metadata": {
        "id": "QkyToJtIw2gB"
      },
      "source": [
        "### Архитектура"
      ]
    },
    {
      "cell_type": "code",
      "execution_count": null,
      "metadata": {
        "id": "cnECQVW_d4OI"
      },
      "outputs": [],
      "source": [
        "class EncoderRNN(nn.Module):\n",
        "    def __init__(self, input_size, hidden_size):\n",
        "        super(EncoderRNN, self).__init__()\n",
        "        self.hidden_size = hidden_size\n",
        "\n",
        "        self.embedding = nn.Embedding(input_size, hidden_size)\n",
        "        self.gru = nn.GRU(hidden_size, hidden_size)\n",
        "\n",
        "    def forward(self, input, hidden):\n",
        "        embedded = self.embedding(input).view(1, 1, -1)\n",
        "        output = embedded\n",
        "        output, hidden = self.gru(output, hidden)\n",
        "        return output, hidden\n",
        "\n",
        "    def initHidden(self):\n",
        "        return torch.zeros(1, 1, self.hidden_size, device=device)\n",
        "\n",
        "class ScaledDotAttnDecoderRNN(nn.Module):\n",
        "    def __init__(self, hidden_size, output_size, dropout_p=0.1, max_length=MAX_LENGTH):\n",
        "        super(ScaledDotAttnDecoderRNN, self).__init__()\n",
        "\n",
        "        # Инициализирую атрибуты класса\n",
        "        self.hidden_size = hidden_size       # Гиперпараметр - размер скрытого состояния, одинаковый для эмбеддинга и скрытого состояния GRU-ячейки\n",
        "        self.output_size = output_size       # Размер словаря языка, на который осуществляется перевод\n",
        "        self.dropout_p = dropout_p           # Вероятность обнуления весов\n",
        "        self.max_length = max_length         # Максимальная длина выходного тензора в токенах\n",
        "\n",
        "        # Слои модели-декодировщика\n",
        "        self.embedding = nn.Embedding(self.output_size, self.hidden_size)\n",
        "        self.dropout = nn.Dropout(self.dropout_p)\n",
        "        self.gru = nn.GRU(self.hidden_size * 2, self.hidden_size)  # Вход в GRU-ячейку - конкатенация эмбеддинга и внимания\n",
        "        self.Wq = nn.Linear(self.hidden_size, self.hidden_size)    # Линейный слой для векторов Q\n",
        "        self.Wk = nn.Linear(self.hidden_size, self.hidden_size)    # Линейный слой для векторов K\n",
        "        self.Wv = nn.Linear(self.hidden_size, self.hidden_size)    # Линейный слой для векторов V\n",
        "        self.out = nn.Linear(self.hidden_size, self.output_size)\n",
        "\n",
        "    def forward(self, input, hidden, encoder_outputs):\n",
        "        # Эмбеддинг и дропаут\n",
        "        embedded = self.embedding(input).view(1, 1, -1)\n",
        "        embedded = self.dropout(embedded)\n",
        "\n",
        "        # Вычисляю вектора Q, K, V и значения внимания\n",
        "        K = self.Wk(encoder_outputs)\n",
        "        Q = self.Wq(hidden)\n",
        "        V = self.Wv(encoder_outputs)\n",
        "        d_k = self.hidden_size  # масштабирование\n",
        "        scores = torch.sum(Q * K, dim=-1) / math.sqrt(d_k)  # механизм внимания типа scaled dot-product, со страницы презентации 8\n",
        "\n",
        "        # Рассчитываю распределение вероятностей слоя attention и применяю к выходу кодировщика\n",
        "        attn_weights = F.softmax(scores, dim=1)\n",
        "        attn_applied = torch.bmm(attn_weights.unsqueeze(0), V.unsqueeze(0))\n",
        "\n",
        "        # Объединяю dense-представление токена и выход слоя внимания, применяю ReLU, провожу через GRU\n",
        "        output = torch.cat((embedded[0], attn_applied[0]), 1)\n",
        "        output = F.relu(output)\n",
        "        output, hidden = self.gru(output.unsqueeze(0), hidden)\n",
        "\n",
        "        # Выход через софтмакс\n",
        "        output = F.log_softmax(self.out(output[0]), dim=1)\n",
        "        return output, hidden, attn_weights\n",
        "\n",
        "    def initHidden(self):\n",
        "        return torch.zeros(1, 1, self.hidden_size, device=device)"
      ]
    },
    {
      "cell_type": "markdown",
      "metadata": {
        "id": "596mbTY6w7Bi"
      },
      "source": [
        "### Обучение"
      ]
    },
    {
      "cell_type": "code",
      "execution_count": null,
      "metadata": {
        "id": "o3m1gwyCw8ex",
        "colab": {
          "base_uri": "https://localhost:8080/"
        },
        "outputId": "3986c69e-1848-4aeb-c7dd-df247e97d417"
      },
      "outputs": [
        {
          "output_type": "stream",
          "name": "stdout",
          "text": [
            "Time: elapsed 4m 39s, remained 41m 56s / Step: 10000 / Progress: 10% / Loss: 4.2848\n",
            "Time: elapsed 9m 18s, remained 37m 15s / Step: 20000 / Progress: 20% / Loss: 3.4517\n",
            "Time: elapsed 13m 58s, remained 32m 37s / Step: 30000 / Progress: 30% / Loss: 3.0214\n",
            "Time: elapsed 18m 41s, remained 28m 1s / Step: 40000 / Progress: 40% / Loss: 2.7114\n",
            "Time: elapsed 23m 22s, remained 23m 22s / Step: 50000 / Progress: 50% / Loss: 2.4786\n",
            "Time: elapsed 28m 3s, remained 18m 42s / Step: 60000 / Progress: 60% / Loss: 2.2681\n",
            "Time: elapsed 32m 46s, remained 14m 2s / Step: 70000 / Progress: 70% / Loss: 2.1118\n",
            "Time: elapsed 37m 29s, remained 9m 22s / Step: 80000 / Progress: 80% / Loss: 1.9855\n",
            "Time: elapsed 42m 11s, remained 4m 41s / Step: 90000 / Progress: 90% / Loss: 1.8664\n",
            "Time: elapsed 46m 54s, remained 0m 0s / Step: 100000 / Progress: 100% / Loss: 1.7310\n"
          ]
        }
      ],
      "source": [
        "MAX_LENGTH = 25\n",
        "\n",
        "hidden_size = 256\n",
        "encoder_scaled_dot_attn = EncoderRNN(input_lang.n_words, hidden_size).to(device)\n",
        "decoder_scaled_dot_attn = ScaledDotAttnDecoderRNN(hidden_size, output_lang.n_words).to(device)\n",
        "\n",
        "scaled_dot_attention_losses = trainIters(encoder_scaled_dot_attn, decoder_scaled_dot_attn, filter_pairs, input_lang, output_lang, \n",
        "                               100000, print_every=10000, learning_rate=0.01, max_length=MAX_LENGTH)"
      ]
    },
    {
      "cell_type": "markdown",
      "metadata": {
        "id": "UZ0MN2U2w83b"
      },
      "source": [
        "### Проверка качества"
      ]
    },
    {
      "cell_type": "code",
      "execution_count": null,
      "metadata": {
        "id": "MekPLj-_w_C5"
      },
      "outputs": [],
      "source": [
        "model_name = 'scaled_dot_attention'\n",
        "\n",
        "add_loss_columns(csv_file, model_name, scaled_dot_attention_losses, create_csv=True)\n",
        "\n",
        "torch.save(encoder_scaled_dot_attn.state_dict(), f'{model_name}_encoder.pt')\n",
        "torch.save(decoder_scaled_dot_attn.state_dict(), f'{model_name}_decoder.pt')"
      ]
    },
    {
      "cell_type": "code",
      "execution_count": null,
      "metadata": {
        "colab": {
          "base_uri": "https://localhost:8080/"
        },
        "id": "TP9SqdAv8ASe",
        "outputId": "91efdabc-c686-4037-e4ee-b8dc8ed938b3"
      },
      "outputs": [
        {
          "output_type": "stream",
          "name": "stdout",
          "text": [
            "> you re not married are you ?\n",
            "= ты ведь не замужем ?\n",
            "< ты ведь не женат ? <EOS>\n",
            "\n",
            "> we re on the way .\n",
            "= мы уже едем .\n",
            "< мы на пути . <EOS>\n",
            "\n",
            "> you re photogenic .\n",
            "= ты фотогеничен .\n",
            "< ты вас . <EOS>\n",
            "\n",
            "> i m a high school student .\n",
            "= я учащиися среднеи школы .\n",
            "< я студент в . . <EOS>\n",
            "\n",
            "> we re ok .\n",
            "= мы в порядке .\n",
            "< мы идем в порядке . <EOS>\n",
            "\n",
            "> i m going to my sister s .\n",
            "= я еду к сестре .\n",
            "< я иду в своеи . <EOS>\n",
            "\n",
            "> i m well aware of the situation .\n",
            "= мне хорошо известно о ситуации .\n",
            "< я прекрасно осознаю . . . . <EOS>\n",
            "\n",
            "> we re responsible for you .\n",
            "= мы несем за тебя ответственность .\n",
            "< мы за тебя очень . <EOS>\n",
            "\n",
            "> you re an irresponsible idiot .\n",
            "= ты безответственная идиотка .\n",
            "< ты безответственныи идиот . <EOS>\n",
            "\n",
            "> i m already rich .\n",
            "= я уже богат .\n",
            "< я уже богата . <EOS>\n",
            "\n"
          ]
        }
      ],
      "source": [
        "evaluateRandomly(encoder_scaled_dot_attn, decoder_scaled_dot_attn, filter_pairs, n=10)"
      ]
    },
    {
      "cell_type": "markdown",
      "metadata": {
        "id": "GSngY4WYd4la"
      },
      "source": [
        "## MLP"
      ]
    },
    {
      "cell_type": "markdown",
      "source": [
        "### Архитектура"
      ],
      "metadata": {
        "id": "bK0i2cvX8J8p"
      }
    },
    {
      "cell_type": "code",
      "execution_count": null,
      "metadata": {
        "id": "fbmIOTC8d5-c"
      },
      "outputs": [],
      "source": [
        "class MLPAttnDecoderRNN(nn.Module):\n",
        "    def __init__(self, hidden_size, output_size, dropout_p=0.1, max_length=MAX_LENGTH):\n",
        "        super(MLPAttnDecoderRNN, self).__init__()\n",
        "\n",
        "        # Атрибуты те же, что и в прошлой архитектуре\n",
        "        self.hidden_size = hidden_size\n",
        "        self.output_size = output_size\n",
        "        self.dropout_p = dropout_p\n",
        "        self.max_length = max_length\n",
        "\n",
        "        # Слои, эмбеддинг\n",
        "        self.embedding = nn.Embedding(self.output_size, self.hidden_size)\n",
        "        # Слой attention, реализация однослойный MLP со страницы 9 презентации\n",
        "        self.attn = nn.Sequential(\n",
        "            nn.Linear(self.hidden_size * 2, self.hidden_size),  # Линейный слой для входа\n",
        "            nn.Tanh(),  # Активация - гиперболический тангенс\n",
        "            nn.Linear(self.hidden_size, self.max_length),  # Линейный слой для расчёта значений attention\n",
        "            nn.Softmax(dim=1)  # Софтмакс для распределения вероятностей\n",
        "        )\n",
        "        self.attn_combine = nn.Linear(self.hidden_size * 2, self.hidden_size)  # Соединение attention и embedding\n",
        "        self.dropout = nn.Dropout(self.dropout_p)  # Сброс весов\n",
        "        self.gru = nn.GRU(self.hidden_size, self.hidden_size)  # GRU\n",
        "        self.out = nn.Linear(self.hidden_size, self.output_size)  # Выход декодировщика\n",
        "\n",
        "    def forward(self, input, hidden, encoder_outputs):\n",
        "        # Эмбеддинг и сброс весов\n",
        "        embedded = self.embedding(input).view(1, 1, -1)\n",
        "        embedded = self.dropout(embedded)\n",
        "\n",
        "        # Расчёт весов attention, объединение их с входящим вектором, проход через активацию и GRU\n",
        "        attn_weights = self.attn(torch.cat((embedded[0], hidden[0]), 1))\n",
        "        attn_applied = torch.bmm(attn_weights.unsqueeze(0), encoder_outputs.unsqueeze(0))\n",
        "        output = torch.cat((embedded[0], attn_applied[0]), 1)\n",
        "        output = self.attn_combine(output).unsqueeze(0)\n",
        "        output = F.relu(output)\n",
        "        output, hidden = self.gru(output, hidden)\n",
        "\n",
        "        # Выход декодировщика\n",
        "        output = F.log_softmax(self.out(output[0]), dim=1)\n",
        "        return output, hidden, attn_weights\n",
        "\n",
        "    def initHidden(self):\n",
        "        return torch.zeros(1, 1, self.hidden_size, device=device)"
      ]
    },
    {
      "cell_type": "markdown",
      "source": [
        "### Обучение"
      ],
      "metadata": {
        "id": "l7t8UWBT8OHa"
      }
    },
    {
      "cell_type": "code",
      "execution_count": null,
      "metadata": {
        "colab": {
          "base_uri": "https://localhost:8080/"
        },
        "id": "uh7I7YDp8ASf",
        "outputId": "43312694-086d-4f7f-c063-90b4e5b9d932"
      },
      "outputs": [
        {
          "output_type": "stream",
          "name": "stdout",
          "text": [
            "Time: elapsed 4m 37s, remained 41m 41s / Step: 10000 / Progress: 10% / Loss: 4.2647\n",
            "Time: elapsed 9m 13s, remained 36m 55s / Step: 20000 / Progress: 20% / Loss: 3.4384\n",
            "Time: elapsed 13m 53s, remained 32m 24s / Step: 30000 / Progress: 30% / Loss: 2.9784\n",
            "Time: elapsed 18m 35s, remained 27m 53s / Step: 40000 / Progress: 40% / Loss: 2.6910\n",
            "Time: elapsed 23m 17s, remained 23m 17s / Step: 50000 / Progress: 50% / Loss: 2.4613\n",
            "Time: elapsed 28m 0s, remained 18m 40s / Step: 60000 / Progress: 60% / Loss: 2.2840\n",
            "Time: elapsed 32m 43s, remained 14m 1s / Step: 70000 / Progress: 70% / Loss: 2.0944\n",
            "Time: elapsed 37m 26s, remained 9m 21s / Step: 80000 / Progress: 80% / Loss: 1.9975\n",
            "Time: elapsed 42m 9s, remained 4m 41s / Step: 90000 / Progress: 90% / Loss: 1.8901\n",
            "Time: elapsed 46m 52s, remained 0m 0s / Step: 100000 / Progress: 100% / Loss: 1.7862\n"
          ]
        }
      ],
      "source": [
        "MAX_LENGTH = 25\n",
        "\n",
        "hidden_size = 256\n",
        "encoder_mlp_attn = EncoderRNN(input_lang.n_words, hidden_size).to(device)\n",
        "decoder_mlp_attn = MLPAttnDecoderRNN(hidden_size, output_lang.n_words).to(device)\n",
        "\n",
        "mlp_attention_losses = trainIters(encoder_mlp_attn, decoder_mlp_attn, filter_pairs, input_lang, output_lang, \n",
        "                               100000, print_every=10000, learning_rate=0.01, max_length=MAX_LENGTH)"
      ]
    },
    {
      "cell_type": "markdown",
      "source": [
        "### Проверка качества"
      ],
      "metadata": {
        "id": "pWJXRkFB8Q6R"
      }
    },
    {
      "cell_type": "code",
      "execution_count": null,
      "metadata": {
        "id": "c24fxgyT8ASf"
      },
      "outputs": [],
      "source": [
        "model_name = 'mlp_attention'\n",
        "\n",
        "add_loss_columns(csv_file, model_name, mlp_attention_losses, create_csv=False)\n",
        "\n",
        "torch.save(encoder_mlp_attn.state_dict(), f'{model_name}_encoder.pt')\n",
        "torch.save(decoder_mlp_attn.state_dict(), f'{model_name}_decoder.pt')"
      ]
    },
    {
      "cell_type": "code",
      "execution_count": null,
      "metadata": {
        "colab": {
          "base_uri": "https://localhost:8080/"
        },
        "id": "i9dlPoFh8ASf",
        "outputId": "d8200bc8-d01e-4e9e-c0ff-97a083bfc336"
      },
      "outputs": [
        {
          "output_type": "stream",
          "name": "stdout",
          "text": [
            "> he s afraid i ll get lost .\n",
            "= он боится что я потеряюсь .\n",
            "< я что что он . <EOS>\n",
            "\n",
            "> you re so rude .\n",
            "= вы такие грубые .\n",
            "< ты такои грубыи . <EOS>\n",
            "\n",
            "> i m not going to do that today .\n",
            "= я не собираюсь делать это сегодня .\n",
            "< я не собираюсь делать это делать . <EOS>\n",
            "\n",
            "> i m taking a walk in a park .\n",
            "= я гуляю в парке .\n",
            "< я в в в . . <EOS>\n",
            "\n",
            "> you re the only one i can be myself with .\n",
            "= ты единственная с кем я могу быть самим собои .\n",
            "< ты единственная я могу быть собои . <EOS>\n",
            "\n",
            "> i m sorry tom . i can t do this .\n",
            "= извини том . я не могу этого сделать .\n",
            "< я сожалею . я не могу этого сделать . <EOS>\n",
            "\n",
            "> i m glad someone told me .\n",
            "= я рад что мне сказали .\n",
            "< я рад что я меня сказал . <EOS>\n",
            "\n",
            "> we re vegans .\n",
            "= мы веганы .\n",
            "< мы в . . <EOS>\n",
            "\n",
            "> i m in none of the pictures because i took them .\n",
            "= меня нет ни на одном из этих фото потому что я их снимала .\n",
            "< я на два на не . . <EOS>\n",
            "\n",
            "> i m not going to tell you my name .\n",
            "= я не собираюсь говорить тебе как меня зовут .\n",
            "< я не собираюсь говорить вам говорить . <EOS>\n",
            "\n"
          ]
        }
      ],
      "source": [
        "evaluateRandomly(encoder_mlp_attn, decoder_mlp_attn, filter_pairs, n=10)"
      ]
    },
    {
      "cell_type": "markdown",
      "source": [
        "# Выводы"
      ],
      "metadata": {
        "id": "shiunQnC8Tm0"
      }
    },
    {
      "cell_type": "code",
      "source": [
        "df = pd.read_csv(csv_file)"
      ],
      "metadata": {
        "id": "rdQjIN_d8i04"
      },
      "execution_count": null,
      "outputs": []
    },
    {
      "cell_type": "code",
      "source": [
        "showPlot(df)"
      ],
      "metadata": {
        "colab": {
          "base_uri": "https://localhost:8080/",
          "height": 472
        },
        "id": "95B2JoKb8jOv",
        "outputId": "9b38f6c8-4ca9-4da5-ecbe-bbec887588ef"
      },
      "execution_count": null,
      "outputs": [
        {
          "output_type": "display_data",
          "data": {
            "text/plain": [
              "<Figure size 640x480 with 1 Axes>"
            ],
            "image/png": "[encoded data removed]"
          },
          "metadata": {}
        }
      ]
    },
    {
      "cell_type": "markdown",
      "source": [
        "В целом, учитывая, что я реализовала MLP как было написано в презентации - однослойным персептроном, я бы сказала, что из-за того, что я использовала предложения не длиннее 25 токенов, а также определённой структуры, scaled dot-product механизм показал себя немного лучше в плане перспективности. MLP же оказался более стабилен.\n",
        "\n",
        "Если говорить об изменениях:\n",
        "- Работа с неурезанным датасетом.\n",
        "- Работа с батчами.\n",
        "- Сравнительные данные по модели без attention были бы также кстати."
      ],
      "metadata": {
        "id": "L2fA5DLk8Vxf"
      }
    }
  ],
  "metadata": {
    "colab": {
      "collapsed_sections": [
        "KH0nkGpsbpdf",
        "mNPp6Za_bsnq",
        "eiKnfPjQcBlG",
        "oVCwa89BM1ls",
        "4f_O1fJ5cO6e",
        "TN-eJ82DfKpV",
        "nzqWxikkclok",
        "QkyToJtIw2gB",
        "596mbTY6w7Bi",
        "UZ0MN2U2w83b",
        "bK0i2cvX8J8p",
        "l7t8UWBT8OHa",
        "pWJXRkFB8Q6R"
      ],
      "provenance": []
    },
    "gpuClass": "standard",
    "kernelspec": {
      "display_name": "Python 3 (ipykernel)",
      "language": "python",
      "name": "python3"
    },
    "language_info": {
      "codemirror_mode": {
        "name": "ipython",
        "version": 3
      },
      "file_extension": ".py",
      "mimetype": "text/x-python",
      "name": "python",
      "nbconvert_exporter": "python",
      "pygments_lexer": "ipython3",
      "version": "3.9.16"
    }
  },
  "nbformat": 4,
  "nbformat_minor": 0
}